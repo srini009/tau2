{
 "cells": [
  {
   "cell_type": "code",
   "execution_count": 1,
   "metadata": {},
   "outputs": [],
   "source": [
    "from tau_profile_parser import TauProfileParser\n",
    "import pandas as pd\n",
    "import matplotlib.pyplot as plt\n",
    "import plotly.graph_objs as go\n",
    "import plotly as py\n",
    "import plotly.express as px\n",
    "from plotly.subplots import make_subplots\n",
    "pd.options.plotting.backend = \"plotly\""
   ]
  },
  {
   "cell_type": "code",
   "execution_count": 2,
   "metadata": {},
   "outputs": [],
   "source": [
    "path_to_ExampleData = '/home/users/MTrappett/tau2/examples/jupyter_notebooks/ExampleData'"
   ]
  },
  {
   "cell_type": "code",
   "execution_count": 3,
   "metadata": {},
   "outputs": [],
   "source": [
    "orig = TauProfileParser.parse(path_to_ExampleData+'/theta_64_flash/orig',MULTI=True)\n",
    "nc_static = TauProfileParser.parse(path_to_ExampleData+'/theta_64_flash/nocall_static',MULTI=True)\n",
    "nocall = TauProfileParser.parse(path_to_ExampleData+'/theta_64_flash/nocall',MULTI=True)"
   ]
  },
  {
   "cell_type": "code",
   "execution_count": 4,
   "metadata": {},
   "outputs": [],
   "source": [
    "orig_df = orig.interval_data()\n",
    "nc_static_df = nc_static.interval_data()\n",
    "nocall_df = nocall.interval_data()"
   ]
  },
  {
   "cell_type": "code",
   "execution_count": 5,
   "metadata": {},
   "outputs": [],
   "source": [
    "# number of nodes, 1 based indexing\n",
    "nodes_num = 10\n",
    "\n",
    "# for exclusive, time\n",
    "orig_time = pd.DataFrame()\n",
    "nc_static_time = pd.DataFrame()\n",
    "nocall_time = pd.DataFrame()\n",
    "for node in range(nodes_num):\n",
    "    orig_time = orig_time.append(orig_df.loc[(node,0,0),('Exclusive','TIME')].T)\n",
    "    nc_static_time = nc_static_time.append(nc_static_df.loc[(node,0,0),('Exclusive','TIME')].T)\n",
    "    nocall_time = nocall_time.append(nocall_df.loc[(node,0,0),('Exclusive','TIME')].T)  "
   ]
  },
  {
   "cell_type": "code",
   "execution_count": 6,
   "metadata": {},
   "outputs": [],
   "source": [
    "# sort the timers by Exclusive, TIME\n",
    "orig_sums = orig_time.sum()\n",
    "orig_sums.sort_values(ascending=False, inplace=True)\n",
    "# drop the MPI TIMERS\n",
    "for timer in orig_sums.index:\n",
    "    if 'MPI' in timer:\n",
    "#         print(timer)\n",
    "        orig_sums.drop(labels=timer, inplace=True)\n",
    "# the top timers\n",
    "orig_top = orig_sums.head(6)\n",
    "top_timers = [timer for timer in orig_top.index]"
   ]
  },
  {
   "cell_type": "code",
   "execution_count": 7,
   "metadata": {},
   "outputs": [],
   "source": [
    "orig_time.reset_index(drop=True, inplace=True)\n",
    "nc_static_time.reset_index(drop=True, inplace=True)\n",
    "nocall_time.reset_index(drop=True, inplace=True)"
   ]
  },
  {
   "cell_type": "code",
   "execution_count": 8,
   "metadata": {},
   "outputs": [],
   "source": [
    "# normalize: top_diff = ((top_diff - top_diff.min())/(top_diff.max() - top_diff.min()))\n",
    "\n",
    "orig_time_norm = ((orig_time - orig_time.min())/(orig_time.max() - orig_time.min()))\n",
    "orig_time_norm['Node'] = orig_time_norm.index\n",
    "orig_time_norm['Method'] = ['Orig' for i in range(nodes_num)]\n",
    "\n",
    "nc_static_time_norm = ((nc_static_time - nc_static_time.min())/(nc_static_time.max() - nc_static_time.min()))\n",
    "nc_static_time_norm['Node'] = nc_static_time_norm.index\n",
    "nc_static_time_norm['Method'] = ['Static' for i in range(nodes_num)]\n",
    "\n",
    "nocall_time_norm = ((nocall_time - nocall_time.min())/(nocall_time.max() - nocall_time.min()))\n",
    "nocall_time_norm['Node'] = nocall_time_norm.index\n",
    "nocall_time_norm['Method'] = ['NoCall' for i in range(nodes_num)]\n",
    "# nocall_time_norm.sample(5)"
   ]
  },
  {
   "cell_type": "code",
   "execution_count": 9,
   "metadata": {},
   "outputs": [],
   "source": [
    "orig_time['Node'] = orig_time.index\n",
    "orig_time['Method'] = ['Orig' for i in range(nodes_num)]\n",
    "\n",
    "nc_static_time['Node'] = nc_static_time.index\n",
    "nc_static_time['Method'] = ['Static' for i in range(nodes_num)]\n",
    "\n",
    "nocall_time['Node'] = nocall_time.index\n",
    "nocall_time['Method'] = ['NoCall' for i in range(nodes_num)]"
   ]
  },
  {
   "cell_type": "code",
   "execution_count": 10,
   "metadata": {},
   "outputs": [],
   "source": [
    "total_df = pd.concat([orig_time_norm, nc_static_time_norm, nocall_time_norm])\n",
    "non_normal_df = pd.concat([orig_time, nc_static_time, nocall_time])"
   ]
  },
  {
   "cell_type": "markdown",
   "metadata": {},
   "source": [
    "## Papi Metrics"
   ]
  },
  {
   "cell_type": "code",
   "execution_count": 11,
   "metadata": {},
   "outputs": [],
   "source": [
    "orig_ins = pd.DataFrame()\n",
    "nc_static_ins = pd.DataFrame()\n",
    "nocall_ins = pd.DataFrame()\n",
    "for node in range(nodes_num):\n",
    "    orig_ins = orig_ins.append(orig_df.loc[(node,0,0),('Exclusive','PAPI_TOT_INS')].T)\n",
    "    nc_static_ins = nc_static_ins.append(nc_static_df.loc[(node,0,0),('Exclusive','PAPI_TOT_INS')].T)\n",
    "    nocall_ins = nocall_ins.append(nocall_df.loc[(node,0,0),('Exclusive','PAPI_TOT_INS')].T) \n",
    "\n",
    "# reset index to make it not a multi-index\n",
    "orig_ins.reset_index(drop=True, inplace=True)\n",
    "nc_static_ins.reset_index(drop=True, inplace=True)\n",
    "nocall_ins.reset_index(drop=True, inplace=True)\n",
    "\n",
    "# add in the node and type columns\n",
    "orig_ins['Node'] = orig_ins.index\n",
    "orig_ins['Method'] = ['Orig' for i in range(nodes_num)]\n",
    "\n",
    "nc_static_ins['Node'] = nc_static_ins.index\n",
    "nc_static_ins['Method'] = ['Static' for i in range(nodes_num)]\n",
    "\n",
    "nocall_ins['Node'] = nocall_ins.index\n",
    "nocall_ins['Method'] = ['NoCall' for i in range(nodes_num)]\n",
    "\n",
    "non_normal_ins_df = pd.concat([orig_ins, nc_static_ins, nocall_ins])"
   ]
  },
  {
   "cell_type": "code",
   "execution_count": 12,
   "metadata": {},
   "outputs": [],
   "source": [
    "orig_DCM = pd.DataFrame()\n",
    "nc_static_DCM = pd.DataFrame()\n",
    "nocall_DCM = pd.DataFrame()\n",
    "for node in range(nodes_num):\n",
    "    orig_DCM = orig_DCM.append(orig_df.loc[(node,0,0),('Exclusive','PAPI_L1_DCM')].T)\n",
    "    nc_static_DCM = nc_static_DCM.append(nc_static_df.loc[(node,0,0),('Exclusive','PAPI_L1_DCM')].T)\n",
    "    nocall_DCM = nocall_DCM.append(nocall_df.loc[(node,0,0),('Exclusive','PAPI_L1_DCM')].T) \n",
    "\n",
    "# reset index to make it not a multi-index\n",
    "orig_DCM.reset_index(drop=True, inplace=True)\n",
    "nc_static_DCM.reset_index(drop=True, inplace=True)\n",
    "nocall_DCM.reset_index(drop=True, inplace=True)\n",
    "\n",
    "# add in the node and type columns\n",
    "orig_DCM['Node'] = orig_DCM.index\n",
    "orig_DCM['Method'] = ['Orig' for i in range(nodes_num)]\n",
    "\n",
    "nc_static_DCM['Node'] = nc_static_DCM.index\n",
    "nc_static_DCM['Method'] = ['Static' for i in range(nodes_num)]\n",
    "\n",
    "nocall_DCM['Node'] = nocall_DCM.index\n",
    "nocall_DCM['Method'] = ['NoCall' for i in range(nodes_num)]\n",
    "\n",
    "non_normal_DCM_df = pd.concat([orig_DCM, nc_static_DCM, nocall_DCM])"
   ]
  },
  {
   "cell_type": "code",
   "execution_count": 13,
   "metadata": {},
   "outputs": [],
   "source": [
    "orig_STL = pd.DataFrame()\n",
    "nc_static_STL = pd.DataFrame()\n",
    "nocall_STL = pd.DataFrame()\n",
    "for node in range(nodes_num):\n",
    "    orig_STL = orig_STL.append(orig_df.loc[(node,0,0),('Exclusive','PAPI_RES_STL')].T)\n",
    "    nc_static_STL = nc_static_STL.append(nc_static_df.loc[(node,0,0),('Exclusive','PAPI_RES_STL')].T)\n",
    "    nocall_STL = nocall_STL.append(nocall_df.loc[(node,0,0),('Exclusive','PAPI_RES_STL')].T) \n",
    "\n",
    "# reset index to make it not a multi-index\n",
    "orig_STL.reset_index(drop=True, inplace=True)\n",
    "nc_static_STL.reset_index(drop=True, inplace=True)\n",
    "nocall_STL.reset_index(drop=True, inplace=True)\n",
    "\n",
    "# add in the node and type columns\n",
    "orig_STL['Node'] = orig_STL.index\n",
    "orig_STL['Method'] = ['Orig' for i in range(nodes_num)]\n",
    "\n",
    "nc_static_STL['Node'] = nc_static_STL.index\n",
    "nc_static_STL['Method'] = ['Static' for i in range(nodes_num)]\n",
    "\n",
    "nocall_STL['Node'] = nocall_STL.index\n",
    "nocall_ins['Method'] = ['NoCall' for i in range(nodes_num)]\n",
    "\n",
    "non_normal_STL_df = pd.concat([orig_STL, nc_static_STL, nocall_STL])"
   ]
  },
  {
   "cell_type": "markdown",
   "metadata": {},
   "source": [
    "non_normal_STL_df, non_normal_ins_DCM, non_normal_ins_df, non_normal_df, "
   ]
  },
  {
   "cell_type": "code",
   "execution_count": 15,
   "metadata": {},
   "outputs": [
    {
     "data": {
      "application/vnd.plotly.v1+json": {
       "config": {
        "plotlyServerURL": "https://plot.ly"
       },
       "data": [
        {
         "legendgroup": "orig",
         "marker": {
          "color": "#636EFA",
          "size": 5
         },
         "mode": "markers",
         "name": "orig",
         "showlegend": true,
         "text": [
          0,
          1,
          2,
          3,
          4,
          5,
          6,
          7,
          8
         ],
         "type": "scatter",
         "x": [
          1305519327,
          724504820,
          732510307,
          744616022,
          739377315,
          732440740,
          727027526,
          803597945,
          720772347
         ],
         "xaxis": "x",
         "y": [
          1305519327,
          724504820,
          732510307,
          744616022,
          739377315,
          732440740,
          727027526,
          803597945,
          720772347
         ],
         "yaxis": "y"
        },
        {
         "legendgroup": "nc_static",
         "marker": {
          "color": "#EF553B",
          "size": 5
         },
         "mode": "markers",
         "name": "nc_static",
         "showlegend": true,
         "text": [
          0,
          1,
          2,
          3,
          4,
          5,
          6,
          7,
          8
         ],
         "type": "scatter",
         "x": [
          917732158,
          724755659,
          740014053,
          738289708,
          735426160,
          731454468,
          733063173,
          744697855,
          714561899
         ],
         "xaxis": "x",
         "y": [
          917732158,
          724755659,
          740014053,
          738289708,
          735426160,
          731454468,
          733063173,
          744697855,
          714561899
         ],
         "yaxis": "y"
        },
        {
         "legendgroup": "nocall",
         "marker": {
          "color": "#00CC96",
          "size": 5
         },
         "mode": "markers",
         "name": "nocall",
         "showlegend": true,
         "text": [
          0,
          1,
          2,
          3,
          4,
          5,
          6,
          7,
          8
         ],
         "type": "scatter",
         "x": [
          1295192325,
          718420076,
          746232719,
          737704410,
          734684304,
          731380547,
          730713308,
          796411544,
          712994198
         ],
         "xaxis": "x",
         "y": [
          1295192325,
          718420076,
          746232719,
          737704410,
          734684304,
          731380547,
          730713308,
          796411544,
          712994198
         ],
         "yaxis": "y"
        },
        {
         "legendgroup": "orig",
         "marker": {
          "color": "#636EFA",
          "size": 5
         },
         "mode": "markers",
         "name": "orig",
         "showlegend": false,
         "text": [
          0,
          1,
          2,
          3,
          4,
          5,
          6,
          7,
          8
         ],
         "type": "scatter",
         "x": [
          6223972155,
          1610791884,
          1607286593,
          1601126234,
          1607093220,
          1594212024,
          1591180184,
          1984845785,
          1843652762
         ],
         "xaxis": "x2",
         "y": [
          1305519327,
          724504820,
          732510307,
          744616022,
          739377315,
          732440740,
          727027526,
          803597945,
          720772347
         ],
         "yaxis": "y2"
        },
        {
         "legendgroup": "nc_static",
         "marker": {
          "color": "#EF553B",
          "size": 5
         },
         "mode": "markers",
         "name": "nc_static",
         "showlegend": false,
         "text": [
          0,
          1,
          2,
          3,
          4,
          5,
          6,
          7,
          8
         ],
         "type": "scatter",
         "x": [
          6175050872,
          1488562882,
          1460312036,
          1532225112,
          1452354434,
          1438649900,
          1427038766,
          1462224540,
          1429261324
         ],
         "xaxis": "x2",
         "y": [
          917732158,
          724755659,
          740014053,
          738289708,
          735426160,
          731454468,
          733063173,
          744697855,
          714561899
         ],
         "yaxis": "y2"
        },
        {
         "legendgroup": "nocall",
         "marker": {
          "color": "#00CC96",
          "size": 5
         },
         "mode": "markers",
         "name": "nocall",
         "showlegend": false,
         "text": [
          0,
          1,
          2,
          3,
          4,
          5,
          6,
          7,
          8
         ],
         "type": "scatter",
         "x": [
          6577144627,
          1540898428,
          1569508565,
          1607669022,
          1588341398,
          1641922656,
          1540332795,
          1958894939,
          1614994181
         ],
         "xaxis": "x2",
         "y": [
          1295192325,
          718420076,
          746232719,
          737704410,
          734684304,
          731380547,
          730713308,
          796411544,
          712994198
         ],
         "yaxis": "y2"
        },
        {
         "legendgroup": "orig",
         "marker": {
          "color": "#636EFA",
          "size": 5
         },
         "mode": "markers",
         "name": "orig",
         "showlegend": false,
         "text": [
          0,
          1,
          2,
          3,
          4,
          5,
          6,
          7,
          8
         ],
         "type": "scatter",
         "x": [
          529039810801,
          544882477417,
          554520410936,
          555003237161,
          549749172023,
          549397688147,
          549250445171,
          559543335262,
          538458714579
         ],
         "xaxis": "x3",
         "y": [
          1305519327,
          724504820,
          732510307,
          744616022,
          739377315,
          732440740,
          727027526,
          803597945,
          720772347
         ],
         "yaxis": "y3"
        },
        {
         "legendgroup": "nc_static",
         "marker": {
          "color": "#EF553B",
          "size": 5
         },
         "mode": "markers",
         "name": "nc_static",
         "showlegend": false,
         "text": [
          0,
          1,
          2,
          3,
          4,
          5,
          6,
          7,
          8
         ],
         "type": "scatter",
         "x": [
          604418849280,
          622550637335,
          633573710260,
          634143074032,
          628154104042,
          627750987462,
          627643325797,
          639393447968,
          615290867174
         ],
         "xaxis": "x3",
         "y": [
          917732158,
          724755659,
          740014053,
          738289708,
          735426160,
          731454468,
          733063173,
          744697855,
          714561899
         ],
         "yaxis": "y3"
        },
        {
         "legendgroup": "nocall",
         "marker": {
          "color": "#00CC96",
          "size": 5
         },
         "mode": "markers",
         "name": "nocall",
         "showlegend": false,
         "text": [
          0,
          1,
          2,
          3,
          4,
          5,
          6,
          7,
          8
         ],
         "type": "scatter",
         "x": [
          529040014839,
          544882392370,
          554520116894,
          555003163266,
          549747808965,
          549397688559,
          549249169861,
          559541482912,
          538456798260
         ],
         "xaxis": "x3",
         "y": [
          1295192325,
          718420076,
          746232719,
          737704410,
          734684304,
          731380547,
          730713308,
          796411544,
          712994198
         ],
         "yaxis": "y3"
        },
        {
         "legendgroup": "orig",
         "marker": {
          "color": "#636EFA",
          "size": 5
         },
         "mode": "markers",
         "name": "orig",
         "showlegend": false,
         "text": [
          0,
          1,
          2,
          3,
          4,
          5,
          6,
          7,
          8
         ],
         "type": "scatter",
         "x": [
          569514885,
          368471374,
          370270307,
          370568308,
          368189665,
          366121605,
          364485863,
          402418163,
          359349112
         ],
         "xaxis": "x4",
         "y": [
          1305519327,
          724504820,
          732510307,
          744616022,
          739377315,
          732440740,
          727027526,
          803597945,
          720772347
         ],
         "yaxis": "y4"
        },
        {
         "legendgroup": "nc_static",
         "marker": {
          "color": "#EF553B",
          "size": 5
         },
         "mode": "markers",
         "name": "nc_static",
         "showlegend": false,
         "text": [
          0,
          1,
          2,
          3,
          4,
          5,
          6,
          7,
          8
         ],
         "type": "scatter",
         "x": [
          475838255,
          422100503,
          424749825,
          425053736,
          420929498,
          420656802,
          420325958,
          428369998,
          413126392
         ],
         "xaxis": "x4",
         "y": [
          917732158,
          724755659,
          740014053,
          738289708,
          735426160,
          731454468,
          733063173,
          744697855,
          714561899
         ],
         "yaxis": "y4"
        },
        {
         "legendgroup": "nocall",
         "marker": {
          "color": "#00CC96",
          "size": 5
         },
         "mode": "markers",
         "name": "nocall",
         "showlegend": false,
         "text": [
          0,
          1,
          2,
          3,
          4,
          5,
          6,
          7,
          8
         ],
         "type": "scatter",
         "x": [
          569189045,
          368349834,
          370596089,
          371219749,
          368536552,
          366677229,
          364706959,
          402517631,
          359411055
         ],
         "xaxis": "x4",
         "y": [
          1295192325,
          718420076,
          746232719,
          737704410,
          734684304,
          731380547,
          730713308,
          796411544,
          712994198
         ],
         "yaxis": "y4"
        },
        {
         "legendgroup": "orig",
         "marker": {
          "color": "#636EFA",
          "size": 5
         },
         "mode": "markers",
         "name": "orig",
         "showlegend": false,
         "text": [
          0,
          1,
          2,
          3,
          4,
          5,
          6,
          7,
          8
         ],
         "type": "scatter",
         "x": [
          3324036598,
          3064511263,
          3080256744,
          2887917569,
          2954764631,
          2944386474,
          3004702761,
          2842307503,
          3038349974
         ],
         "xaxis": "x5",
         "y": [
          3324036598,
          3064511263,
          3080256744,
          2887917569,
          2954764631,
          2944386474,
          3004702761,
          2842307503,
          3038349974
         ],
         "yaxis": "y5"
        },
        {
         "legendgroup": "nc_static",
         "marker": {
          "color": "#EF553B",
          "size": 5
         },
         "mode": "markers",
         "name": "nc_static",
         "showlegend": false,
         "text": [
          0,
          1,
          2,
          3,
          4,
          5,
          6,
          7,
          8
         ],
         "type": "scatter",
         "x": [
          3330196865,
          3071395744,
          3072936259,
          2897940994,
          2966243224,
          2955199887,
          3001924362,
          2832451264,
          3039732004
         ],
         "xaxis": "x5",
         "y": [
          3330196865,
          3071395744,
          3072936259,
          2897940994,
          2966243224,
          2955199887,
          3001924362,
          2832451264,
          3039732004
         ],
         "yaxis": "y5"
        },
        {
         "legendgroup": "nocall",
         "marker": {
          "color": "#00CC96",
          "size": 5
         },
         "mode": "markers",
         "name": "nocall",
         "showlegend": false,
         "text": [
          0,
          1,
          2,
          3,
          4,
          5,
          6,
          7,
          8
         ],
         "type": "scatter",
         "x": [
          3345280451,
          3070291363,
          3080943643,
          2898054916,
          2954198699,
          2954244770,
          3014663391,
          2843924355,
          3035179963
         ],
         "xaxis": "x5",
         "y": [
          3345280451,
          3070291363,
          3080943643,
          2898054916,
          2954198699,
          2954244770,
          3014663391,
          2843924355,
          3035179963
         ],
         "yaxis": "y5"
        },
        {
         "legendgroup": "orig",
         "marker": {
          "color": "#636EFA",
          "size": 5
         },
         "mode": "markers",
         "name": "orig",
         "showlegend": false,
         "text": [
          0,
          1,
          2,
          3,
          4,
          5,
          6,
          7,
          8
         ],
         "type": "scatter",
         "x": [
          3914218070,
          4886946526,
          4422487950,
          4132890824,
          3934074205,
          3758247727,
          3889043482,
          3462966886,
          3682720481
         ],
         "xaxis": "x6",
         "y": [
          3324036598,
          3064511263,
          3080256744,
          2887917569,
          2954764631,
          2944386474,
          3004702761,
          2842307503,
          3038349974
         ],
         "yaxis": "y6"
        },
        {
         "legendgroup": "nc_static",
         "marker": {
          "color": "#EF553B",
          "size": 5
         },
         "mode": "markers",
         "name": "nc_static",
         "showlegend": false,
         "text": [
          0,
          1,
          2,
          3,
          4,
          5,
          6,
          7,
          8
         ],
         "type": "scatter",
         "x": [
          3863913595,
          4808344742,
          4377549856,
          4247541180,
          3887297359,
          3754867761,
          3791006818,
          3494885333,
          3601030947
         ],
         "xaxis": "x6",
         "y": [
          3330196865,
          3071395744,
          3072936259,
          2897940994,
          2966243224,
          2955199887,
          3001924362,
          2832451264,
          3039732004
         ],
         "yaxis": "y6"
        },
        {
         "legendgroup": "nocall",
         "marker": {
          "color": "#00CC96",
          "size": 5
         },
         "mode": "markers",
         "name": "nocall",
         "showlegend": false,
         "text": [
          0,
          1,
          2,
          3,
          4,
          5,
          6,
          7,
          8
         ],
         "type": "scatter",
         "x": [
          3874085933,
          4804004651,
          4375237933,
          4186168809,
          3886889598,
          3838217845,
          3849346385,
          3537956603,
          3545716779
         ],
         "xaxis": "x6",
         "y": [
          3345280451,
          3070291363,
          3080943643,
          2898054916,
          2954198699,
          2954244770,
          3014663391,
          2843924355,
          3035179963
         ],
         "yaxis": "y6"
        },
        {
         "legendgroup": "orig",
         "marker": {
          "color": "#636EFA",
          "size": 5
         },
         "mode": "markers",
         "name": "orig",
         "showlegend": false,
         "text": [
          0,
          1,
          2,
          3,
          4,
          5,
          6,
          7,
          8
         ],
         "type": "scatter",
         "x": [
          112737455171,
          108636606574,
          104354201838,
          95556294760,
          85515037181,
          87047679990,
          88329769314,
          77656161749,
          79364648187
         ],
         "xaxis": "x7",
         "y": [
          3324036598,
          3064511263,
          3080256744,
          2887917569,
          2954764631,
          2944386474,
          3004702761,
          2842307503,
          3038349974
         ],
         "yaxis": "y7"
        },
        {
         "legendgroup": "nc_static",
         "marker": {
          "color": "#EF553B",
          "size": 5
         },
         "mode": "markers",
         "name": "nc_static",
         "showlegend": false,
         "text": [
          0,
          1,
          2,
          3,
          4,
          5,
          6,
          7,
          8
         ],
         "type": "scatter",
         "x": [
          112737222440,
          108636259728,
          104354739721,
          95556210669,
          85515359150,
          87047137335,
          88329785013,
          77656237334,
          79361951533
         ],
         "xaxis": "x7",
         "y": [
          3330196865,
          3071395744,
          3072936259,
          2897940994,
          2966243224,
          2955199887,
          3001924362,
          2832451264,
          3039732004
         ],
         "yaxis": "y7"
        },
        {
         "legendgroup": "nocall",
         "marker": {
          "color": "#00CC96",
          "size": 5
         },
         "mode": "markers",
         "name": "nocall",
         "showlegend": false,
         "text": [
          0,
          1,
          2,
          3,
          4,
          5,
          6,
          7,
          8
         ],
         "type": "scatter",
         "x": [
          112738292413,
          108636455041,
          104354532668,
          95556298072,
          85515231484,
          87047385264,
          88329779142,
          77656035564,
          79364494596
         ],
         "xaxis": "x7",
         "y": [
          3345280451,
          3070291363,
          3080943643,
          2898054916,
          2954198699,
          2954244770,
          3014663391,
          2843924355,
          3035179963
         ],
         "yaxis": "y7"
        },
        {
         "legendgroup": "orig",
         "marker": {
          "color": "#636EFA",
          "size": 5
         },
         "mode": "markers",
         "name": "orig",
         "showlegend": false,
         "text": [
          0,
          1,
          2,
          3,
          4,
          5,
          6,
          7,
          8
         ],
         "type": "scatter",
         "x": [
          151624954,
          133182081,
          123367164,
          116329632,
          110369487,
          110233831,
          111055473,
          97456587,
          104501261
         ],
         "xaxis": "x8",
         "y": [
          3324036598,
          3064511263,
          3080256744,
          2887917569,
          2954764631,
          2944386474,
          3004702761,
          2842307503,
          3038349974
         ],
         "yaxis": "y8"
        },
        {
         "legendgroup": "nc_static",
         "marker": {
          "color": "#EF553B",
          "size": 5
         },
         "mode": "markers",
         "name": "nc_static",
         "showlegend": false,
         "text": [
          0,
          1,
          2,
          3,
          4,
          5,
          6,
          7,
          8
         ],
         "type": "scatter",
         "x": [
          146218187,
          131820528,
          122777140,
          115267051,
          108801165,
          108861166,
          110191089,
          98272952,
          102564514
         ],
         "xaxis": "x8",
         "y": [
          3330196865,
          3071395744,
          3072936259,
          2897940994,
          2966243224,
          2955199887,
          3001924362,
          2832451264,
          3039732004
         ],
         "yaxis": "y8"
        },
        {
         "legendgroup": "nocall",
         "marker": {
          "color": "#00CC96",
          "size": 5
         },
         "mode": "markers",
         "name": "nocall",
         "showlegend": false,
         "text": [
          0,
          1,
          2,
          3,
          4,
          5,
          6,
          7,
          8
         ],
         "type": "scatter",
         "x": [
          151040414,
          132272930,
          123150099,
          116116013,
          109845304,
          109667546,
          111088706,
          97443926,
          104018084
         ],
         "xaxis": "x8",
         "y": [
          3345280451,
          3070291363,
          3080943643,
          2898054916,
          2954198699,
          2954244770,
          3014663391,
          2843924355,
          3035179963
         ],
         "yaxis": "y8"
        },
        {
         "legendgroup": "orig",
         "marker": {
          "color": "#636EFA",
          "size": 5
         },
         "mode": "markers",
         "name": "orig",
         "showlegend": false,
         "text": [
          0,
          1,
          2,
          3,
          4,
          5,
          6,
          7,
          8
         ],
         "type": "scatter",
         "x": [
          116395064,
          120735835,
          129874019,
          121057916,
          125004458,
          119512010,
          140961706,
          125445205,
          113958707
         ],
         "xaxis": "x9",
         "y": [
          116395064,
          120735835,
          129874019,
          121057916,
          125004458,
          119512010,
          140961706,
          125445205,
          113958707
         ],
         "yaxis": "y9"
        },
        {
         "legendgroup": "nc_static",
         "marker": {
          "color": "#EF553B",
          "size": 5
         },
         "mode": "markers",
         "name": "nc_static",
         "showlegend": false,
         "text": [
          0,
          1,
          2,
          3,
          4,
          5,
          6,
          7,
          8
         ],
         "type": "scatter",
         "x": [
          96799140,
          104560302,
          106929049,
          107602031,
          106385099,
          106447073,
          106598784,
          108568121,
          104553482
         ],
         "xaxis": "x9",
         "y": [
          96799140,
          104560302,
          106929049,
          107602031,
          106385099,
          106447073,
          106598784,
          108568121,
          104553482
         ],
         "yaxis": "y9"
        },
        {
         "legendgroup": "nocall",
         "marker": {
          "color": "#00CC96",
          "size": 5
         },
         "mode": "markers",
         "name": "nocall",
         "showlegend": false,
         "text": [
          0,
          1,
          2,
          3,
          4,
          5,
          6,
          7,
          8
         ],
         "type": "scatter",
         "x": [
          168199622,
          132366963,
          119419745,
          161320890,
          136201535,
          159051366,
          122529919,
          120001433,
          119957298
         ],
         "xaxis": "x9",
         "y": [
          168199622,
          132366963,
          119419745,
          161320890,
          136201535,
          159051366,
          122529919,
          120001433,
          119957298
         ],
         "yaxis": "y9"
        },
        {
         "legendgroup": "orig",
         "marker": {
          "color": "#636EFA",
          "size": 5
         },
         "mode": "markers",
         "name": "orig",
         "showlegend": false,
         "text": [
          0,
          1,
          2,
          3,
          4,
          5,
          6,
          7,
          8
         ],
         "type": "scatter",
         "x": [
          579401498,
          92988898,
          87346870,
          94173881,
          87517136,
          89264471,
          90005977,
          92345399,
          83097416
         ],
         "xaxis": "x10",
         "y": [
          116395064,
          120735835,
          129874019,
          121057916,
          125004458,
          119512010,
          140961706,
          125445205,
          113958707
         ],
         "yaxis": "y10"
        },
        {
         "legendgroup": "nc_static",
         "marker": {
          "color": "#EF553B",
          "size": 5
         },
         "mode": "markers",
         "name": "nc_static",
         "showlegend": false,
         "text": [
          0,
          1,
          2,
          3,
          4,
          5,
          6,
          7,
          8
         ],
         "type": "scatter",
         "x": [
          564284679,
          80836511,
          81735814,
          82489590,
          82458047,
          79842226,
          78393693,
          91186245,
          81904136
         ],
         "xaxis": "x10",
         "y": [
          96799140,
          104560302,
          106929049,
          107602031,
          106385099,
          106447073,
          106598784,
          108568121,
          104553482
         ],
         "yaxis": "y10"
        },
        {
         "legendgroup": "nocall",
         "marker": {
          "color": "#00CC96",
          "size": 5
         },
         "mode": "markers",
         "name": "nocall",
         "showlegend": false,
         "text": [
          0,
          1,
          2,
          3,
          4,
          5,
          6,
          7,
          8
         ],
         "type": "scatter",
         "x": [
          588409431,
          102342470,
          91900020,
          92533977,
          91027910,
          90331342,
          81435629,
          83424384,
          79836549
         ],
         "xaxis": "x10",
         "y": [
          168199622,
          132366963,
          119419745,
          161320890,
          136201535,
          159051366,
          122529919,
          120001433,
          119957298
         ],
         "yaxis": "y10"
        },
        {
         "legendgroup": "orig",
         "marker": {
          "color": "#636EFA",
          "size": 5
         },
         "mode": "markers",
         "name": "orig",
         "showlegend": false,
         "text": [
          0,
          1,
          2,
          3,
          4,
          5,
          6,
          7,
          8
         ],
         "type": "scatter",
         "x": [
          111697529099,
          115064259135,
          117113281013,
          117236910775,
          116145635454,
          116077333797,
          116097795284,
          118265636274,
          113808863107
         ],
         "xaxis": "x11",
         "y": [
          116395064,
          120735835,
          129874019,
          121057916,
          125004458,
          119512010,
          140961706,
          125445205,
          113958707
         ],
         "yaxis": "y11"
        },
        {
         "legendgroup": "nc_static",
         "marker": {
          "color": "#EF553B",
          "size": 5
         },
         "mode": "markers",
         "name": "nc_static",
         "showlegend": false,
         "text": [
          0,
          1,
          2,
          3,
          4,
          5,
          6,
          7,
          8
         ],
         "type": "scatter",
         "x": [
          111700111628,
          115061382683,
          117112461072,
          117234045250,
          116144056821,
          116074273263,
          116095974122,
          118266221499,
          113807189487
         ],
         "xaxis": "x11",
         "y": [
          96799140,
          104560302,
          106929049,
          107602031,
          106385099,
          106447073,
          106598784,
          108568121,
          104553482
         ],
         "yaxis": "y11"
        },
        {
         "legendgroup": "nocall",
         "marker": {
          "color": "#00CC96",
          "size": 5
         },
         "mode": "markers",
         "name": "nocall",
         "showlegend": false,
         "text": [
          0,
          1,
          2,
          3,
          4,
          5,
          6,
          7,
          8
         ],
         "type": "scatter",
         "x": [
          111698256697,
          115064334367,
          117112601382,
          117237067438,
          116144276026,
          116077334199,
          116096364325,
          118263977830,
          113807479126
         ],
         "xaxis": "x11",
         "y": [
          168199622,
          132366963,
          119419745,
          161320890,
          136201535,
          159051366,
          122529919,
          120001433,
          119957298
         ],
         "yaxis": "y11"
        },
        {
         "legendgroup": "orig",
         "marker": {
          "color": "#636EFA",
          "size": 5
         },
         "mode": "markers",
         "name": "orig",
         "showlegend": false,
         "text": [
          0,
          1,
          2,
          3,
          4,
          5,
          6,
          7,
          8
         ],
         "type": "scatter",
         "x": [
          101577677,
          92161377,
          93634548,
          93645016,
          92833830,
          92552299,
          92817854,
          94290882,
          90980146
         ],
         "xaxis": "x12",
         "y": [
          116395064,
          120735835,
          129874019,
          121057916,
          125004458,
          119512010,
          140961706,
          125445205,
          113958707
         ],
         "yaxis": "y12"
        },
        {
         "legendgroup": "nc_static",
         "marker": {
          "color": "#EF553B",
          "size": 5
         },
         "mode": "markers",
         "name": "nc_static",
         "showlegend": false,
         "text": [
          0,
          1,
          2,
          3,
          4,
          5,
          6,
          7,
          8
         ],
         "type": "scatter",
         "x": [
          101550389,
          92602646,
          93941261,
          94064658,
          93143546,
          93085271,
          93104788,
          94827356,
          91376781
         ],
         "xaxis": "x12",
         "y": [
          96799140,
          104560302,
          106929049,
          107602031,
          106385099,
          106447073,
          106598784,
          108568121,
          104553482
         ],
         "yaxis": "y12"
        },
        {
         "legendgroup": "nocall",
         "marker": {
          "color": "#00CC96",
          "size": 5
         },
         "mode": "markers",
         "name": "nocall",
         "showlegend": false,
         "text": [
          0,
          1,
          2,
          3,
          4,
          5,
          6,
          7,
          8
         ],
         "type": "scatter",
         "x": [
          101820014,
          92544815,
          93703017,
          94015292,
          93135490,
          92959871,
          92751367,
          94212104,
          90850499
         ],
         "xaxis": "x12",
         "y": [
          168199622,
          132366963,
          119419745,
          161320890,
          136201535,
          159051366,
          122529919,
          120001433,
          119957298
         ],
         "yaxis": "y12"
        },
        {
         "legendgroup": "orig",
         "marker": {
          "color": "#636EFA",
          "size": 5
         },
         "mode": "markers",
         "name": "orig",
         "showlegend": false,
         "text": [
          0,
          1,
          2,
          3,
          4,
          5,
          6,
          7,
          8
         ],
         "type": "scatter",
         "x": [
          19018974,
          18870036,
          19460813,
          19468217,
          19283757,
          19386572,
          19271726,
          19782913,
          18959330
         ],
         "xaxis": "x13",
         "y": [
          19018974,
          18870036,
          19460813,
          19468217,
          19283757,
          19386572,
          19271726,
          19782913,
          18959330
         ],
         "yaxis": "y13"
        },
        {
         "legendgroup": "nc_static",
         "marker": {
          "color": "#EF553B",
          "size": 5
         },
         "mode": "markers",
         "name": "nc_static",
         "showlegend": false,
         "text": [
          0,
          1,
          2,
          3,
          4,
          5,
          6,
          7,
          8
         ],
         "type": "scatter",
         "x": [
          20170035,
          19132408,
          19601812,
          19753948,
          19635717,
          19723048,
          19695471,
          20010326,
          19386632
         ],
         "xaxis": "x13",
         "y": [
          20170035,
          19132408,
          19601812,
          19753948,
          19635717,
          19723048,
          19695471,
          20010326,
          19386632
         ],
         "yaxis": "y13"
        },
        {
         "legendgroup": "nocall",
         "marker": {
          "color": "#00CC96",
          "size": 5
         },
         "mode": "markers",
         "name": "nocall",
         "showlegend": false,
         "text": [
          0,
          1,
          2,
          3,
          4,
          5,
          6,
          7,
          8
         ],
         "type": "scatter",
         "x": [
          19342575,
          18767486,
          19020649,
          19481115,
          19231569,
          19313686,
          19391165,
          19757524,
          18969855
         ],
         "xaxis": "x13",
         "y": [
          19342575,
          18767486,
          19020649,
          19481115,
          19231569,
          19313686,
          19391165,
          19757524,
          18969855
         ],
         "yaxis": "y13"
        },
        {
         "legendgroup": "orig",
         "marker": {
          "color": "#636EFA",
          "size": 5
         },
         "mode": "markers",
         "name": "orig",
         "showlegend": false,
         "text": [
          0,
          1,
          2,
          3,
          4,
          5,
          6,
          7,
          8
         ],
         "type": "scatter",
         "x": [
          783050404,
          866071871,
          874933732,
          877481229,
          867607256,
          869349829,
          866369038,
          883450187,
          845649103
         ],
         "xaxis": "x14",
         "y": [
          19018974,
          18870036,
          19460813,
          19468217,
          19283757,
          19386572,
          19271726,
          19782913,
          18959330
         ],
         "yaxis": "y14"
        },
        {
         "legendgroup": "nc_static",
         "marker": {
          "color": "#EF553B",
          "size": 5
         },
         "mode": "markers",
         "name": "nc_static",
         "showlegend": false,
         "text": [
          0,
          1,
          2,
          3,
          4,
          5,
          6,
          7,
          8
         ],
         "type": "scatter",
         "x": [
          779979292,
          858593173,
          868384077,
          871738332,
          862466816,
          864447417,
          864020477,
          888532552,
          847542156
         ],
         "xaxis": "x14",
         "y": [
          20170035,
          19132408,
          19601812,
          19753948,
          19635717,
          19723048,
          19695471,
          20010326,
          19386632
         ],
         "yaxis": "y14"
        },
        {
         "legendgroup": "nocall",
         "marker": {
          "color": "#00CC96",
          "size": 5
         },
         "mode": "markers",
         "name": "nocall",
         "showlegend": false,
         "text": [
          0,
          1,
          2,
          3,
          4,
          5,
          6,
          7,
          8
         ],
         "type": "scatter",
         "x": [
          782125069,
          861470826,
          869055564,
          872916646,
          864716964,
          864393979,
          866676403,
          876753696,
          847033361
         ],
         "xaxis": "x14",
         "y": [
          19342575,
          18767486,
          19020649,
          19481115,
          19231569,
          19313686,
          19391165,
          19757524,
          18969855
         ],
         "yaxis": "y14"
        },
        {
         "legendgroup": "orig",
         "marker": {
          "color": "#636EFA",
          "size": 5
         },
         "mode": "markers",
         "name": "orig",
         "showlegend": false,
         "text": [
          0,
          1,
          2,
          3,
          4,
          5,
          6,
          7,
          8
         ],
         "type": "scatter",
         "x": [
          21543762464,
          22192928682,
          22587909230,
          22613545612,
          22403070319,
          22388792170,
          22399396060,
          22816627075,
          21953555300
         ],
         "xaxis": "x15",
         "y": [
          19018974,
          18870036,
          19460813,
          19468217,
          19283757,
          19386572,
          19271726,
          19782913,
          18959330
         ],
         "yaxis": "y15"
        },
        {
         "legendgroup": "nc_static",
         "marker": {
          "color": "#EF553B",
          "size": 5
         },
         "mode": "markers",
         "name": "nc_static",
         "showlegend": false,
         "text": [
          0,
          1,
          2,
          3,
          4,
          5,
          6,
          7,
          8
         ],
         "type": "scatter",
         "x": [
          21545661090,
          22194251603,
          22589666615,
          22615124749,
          22404912326,
          22390617659,
          22401325448,
          22818726678,
          21955374122
         ],
         "xaxis": "x15",
         "y": [
          20170035,
          19132408,
          19601812,
          19753948,
          19635717,
          19723048,
          19695471,
          20010326,
          19386632
         ],
         "yaxis": "y15"
        },
        {
         "legendgroup": "nocall",
         "marker": {
          "color": "#00CC96",
          "size": 5
         },
         "mode": "markers",
         "name": "nocall",
         "showlegend": false,
         "text": [
          0,
          1,
          2,
          3,
          4,
          5,
          6,
          7,
          8
         ],
         "type": "scatter",
         "x": [
          21543872924,
          22193147170,
          22587656936,
          22613884752,
          22403229363,
          22388965979,
          22399414782,
          22815997523,
          21953411237
         ],
         "xaxis": "x15",
         "y": [
          19342575,
          18767486,
          19020649,
          19481115,
          19231569,
          19313686,
          19391165,
          19757524,
          18969855
         ],
         "yaxis": "y15"
        },
        {
         "legendgroup": "orig",
         "marker": {
          "color": "#636EFA",
          "size": 5
         },
         "mode": "markers",
         "name": "orig",
         "showlegend": false,
         "text": [
          0,
          1,
          2,
          3,
          4,
          5,
          6,
          7,
          8
         ],
         "type": "scatter",
         "x": [
          17535034,
          15904628,
          15955550,
          16015869,
          15820829,
          15799968,
          15773165,
          16139490,
          15501047
         ],
         "xaxis": "x16",
         "y": [
          19018974,
          18870036,
          19460813,
          19468217,
          19283757,
          19386572,
          19271726,
          19782913,
          18959330
         ],
         "yaxis": "y16"
        },
        {
         "legendgroup": "nc_static",
         "marker": {
          "color": "#EF553B",
          "size": 5
         },
         "mode": "markers",
         "name": "nc_static",
         "showlegend": false,
         "text": [
          0,
          1,
          2,
          3,
          4,
          5,
          6,
          7,
          8
         ],
         "type": "scatter",
         "x": [
          17500550,
          15819178,
          16038534,
          16029341,
          15837731,
          15832527,
          15788968,
          16097351,
          15470179
         ],
         "xaxis": "x16",
         "y": [
          20170035,
          19132408,
          19601812,
          19753948,
          19635717,
          19723048,
          19695471,
          20010326,
          19386632
         ],
         "yaxis": "y16"
        },
        {
         "legendgroup": "nocall",
         "marker": {
          "color": "#00CC96",
          "size": 5
         },
         "mode": "markers",
         "name": "nocall",
         "showlegend": false,
         "text": [
          0,
          1,
          2,
          3,
          4,
          5,
          6,
          7,
          8
         ],
         "type": "scatter",
         "x": [
          17649014,
          15862403,
          15942062,
          15968799,
          15799005,
          15842920,
          15764608,
          16105198,
          15529561
         ],
         "xaxis": "x16",
         "y": [
          19342575,
          18767486,
          19020649,
          19481115,
          19231569,
          19313686,
          19391165,
          19757524,
          18969855
         ],
         "yaxis": "y16"
        },
        {
         "legendgroup": "orig",
         "marker": {
          "color": "#636EFA",
          "size": 5
         },
         "mode": "markers",
         "name": "orig",
         "showlegend": false,
         "text": [
          0,
          1,
          2,
          3,
          4,
          5,
          6,
          7,
          8
         ],
         "type": "scatter",
         "x": [
          434965153,
          358791746,
          359294820,
          318163207,
          345469479,
          343408807,
          362614258,
          321788453,
          378192884
         ],
         "xaxis": "x17",
         "y": [
          434965153,
          358791746,
          359294820,
          318163207,
          345469479,
          343408807,
          362614258,
          321788453,
          378192884
         ],
         "yaxis": "y17"
        },
        {
         "legendgroup": "nc_static",
         "marker": {
          "color": "#EF553B",
          "size": 5
         },
         "mode": "markers",
         "name": "nc_static",
         "showlegend": false,
         "text": [
          0,
          1,
          2,
          3,
          4,
          5,
          6,
          7,
          8
         ],
         "type": "scatter",
         "x": [
          434007503,
          359465106,
          360914243,
          316135960,
          349450862,
          347991773,
          364318697,
          324320647,
          379202740
         ],
         "xaxis": "x17",
         "y": [
          434007503,
          359465106,
          360914243,
          316135960,
          349450862,
          347991773,
          364318697,
          324320647,
          379202740
         ],
         "yaxis": "y17"
        },
        {
         "legendgroup": "nocall",
         "marker": {
          "color": "#00CC96",
          "size": 5
         },
         "mode": "markers",
         "name": "nocall",
         "showlegend": false,
         "text": [
          0,
          1,
          2,
          3,
          4,
          5,
          6,
          7,
          8
         ],
         "type": "scatter",
         "x": [
          435365434,
          359300315,
          359601088,
          317315823,
          346286101,
          341503900,
          363734521,
          321296632,
          379918779
         ],
         "xaxis": "x17",
         "y": [
          435365434,
          359300315,
          359601088,
          317315823,
          346286101,
          341503900,
          363734521,
          321296632,
          379918779
         ],
         "yaxis": "y17"
        },
        {
         "legendgroup": "orig",
         "marker": {
          "color": "#636EFA",
          "size": 5
         },
         "mode": "markers",
         "name": "orig",
         "showlegend": false,
         "text": [
          0,
          1,
          2,
          3,
          4,
          5,
          6,
          7,
          8
         ],
         "type": "scatter",
         "x": [
          349378152,
          523613893,
          541089081,
          454511243,
          466836604,
          468375395,
          480905215,
          432986529,
          535062501
         ],
         "xaxis": "x18",
         "y": [
          434965153,
          358791746,
          359294820,
          318163207,
          345469479,
          343408807,
          362614258,
          321788453,
          378192884
         ],
         "yaxis": "y18"
        },
        {
         "legendgroup": "nc_static",
         "marker": {
          "color": "#EF553B",
          "size": 5
         },
         "mode": "markers",
         "name": "nc_static",
         "showlegend": false,
         "text": [
          0,
          1,
          2,
          3,
          4,
          5,
          6,
          7,
          8
         ],
         "type": "scatter",
         "x": [
          363166008,
          519541049,
          500809410,
          520312044,
          416445447,
          391772199,
          477403021,
          407153804,
          527667591
         ],
         "xaxis": "x18",
         "y": [
          434007503,
          359465106,
          360914243,
          316135960,
          349450862,
          347991773,
          364318697,
          324320647,
          379202740
         ],
         "yaxis": "y18"
        },
        {
         "legendgroup": "nocall",
         "marker": {
          "color": "#00CC96",
          "size": 5
         },
         "mode": "markers",
         "name": "nocall",
         "showlegend": false,
         "text": [
          0,
          1,
          2,
          3,
          4,
          5,
          6,
          7,
          8
         ],
         "type": "scatter",
         "x": [
          341240911,
          506237492,
          536217727,
          473670476,
          432101084,
          508963027,
          449731416,
          447688743,
          482799639
         ],
         "xaxis": "x18",
         "y": [
          435365434,
          359300315,
          359601088,
          317315823,
          346286101,
          341503900,
          363734521,
          321296632,
          379918779
         ],
         "yaxis": "y18"
        },
        {
         "legendgroup": "orig",
         "marker": {
          "color": "#636EFA",
          "size": 5
         },
         "mode": "markers",
         "name": "orig",
         "showlegend": false,
         "text": [
          0,
          1,
          2,
          3,
          4,
          5,
          6,
          7,
          8
         ],
         "type": "scatter",
         "x": [
          11293831274,
          9914427499,
          10290084667,
          9077206083,
          9249987268,
          9306719514,
          10232875872,
          9123093797,
          10568618488
         ],
         "xaxis": "x19",
         "y": [
          434965153,
          358791746,
          359294820,
          318163207,
          345469479,
          343408807,
          362614258,
          321788453,
          378192884
         ],
         "yaxis": "y19"
        },
        {
         "legendgroup": "nc_static",
         "marker": {
          "color": "#EF553B",
          "size": 5
         },
         "mode": "markers",
         "name": "nc_static",
         "showlegend": false,
         "text": [
          0,
          1,
          2,
          3,
          4,
          5,
          6,
          7,
          8
         ],
         "type": "scatter",
         "x": [
          11293833280,
          9914313557,
          10290008893,
          9077093385,
          9249867897,
          9306457568,
          10232746235,
          9123015362,
          10568500950
         ],
         "xaxis": "x19",
         "y": [
          434007503,
          359465106,
          360914243,
          316135960,
          349450862,
          347991773,
          364318697,
          324320647,
          379202740
         ],
         "yaxis": "y19"
        },
        {
         "legendgroup": "nocall",
         "marker": {
          "color": "#00CC96",
          "size": 5
         },
         "mode": "markers",
         "name": "nocall",
         "showlegend": false,
         "text": [
          0,
          1,
          2,
          3,
          4,
          5,
          6,
          7,
          8
         ],
         "type": "scatter",
         "x": [
          11293837415,
          9914442107,
          10290088237,
          9077209205,
          9250004843,
          9306644677,
          10232880030,
          9123103417,
          10568608871
         ],
         "xaxis": "x19",
         "y": [
          435365434,
          359300315,
          359601088,
          317315823,
          346286101,
          341503900,
          363734521,
          321296632,
          379918779
         ],
         "yaxis": "y19"
        },
        {
         "legendgroup": "orig",
         "marker": {
          "color": "#636EFA",
          "size": 5
         },
         "mode": "markers",
         "name": "orig",
         "showlegend": false,
         "text": [
          0,
          1,
          2,
          3,
          4,
          5,
          6,
          7,
          8
         ],
         "type": "scatter",
         "x": [
          16118879,
          13535168,
          13424716,
          12493286,
          12666387,
          12754281,
          12984528,
          12134374,
          13687019
         ],
         "xaxis": "x20",
         "y": [
          434965153,
          358791746,
          359294820,
          318163207,
          345469479,
          343408807,
          362614258,
          321788453,
          378192884
         ],
         "yaxis": "y20"
        },
        {
         "legendgroup": "nc_static",
         "marker": {
          "color": "#EF553B",
          "size": 5
         },
         "mode": "markers",
         "name": "nc_static",
         "showlegend": false,
         "text": [
          0,
          1,
          2,
          3,
          4,
          5,
          6,
          7,
          8
         ],
         "type": "scatter",
         "x": [
          16152628,
          13812042,
          13585353,
          12780150,
          12681058,
          12702121,
          13114584,
          11969876,
          13764693
         ],
         "xaxis": "x20",
         "y": [
          434007503,
          359465106,
          360914243,
          316135960,
          349450862,
          347991773,
          364318697,
          324320647,
          379202740
         ],
         "yaxis": "y20"
        },
        {
         "legendgroup": "nocall",
         "marker": {
          "color": "#00CC96",
          "size": 5
         },
         "mode": "markers",
         "name": "nocall",
         "showlegend": false,
         "text": [
          0,
          1,
          2,
          3,
          4,
          5,
          6,
          7,
          8
         ],
         "type": "scatter",
         "x": [
          16078211,
          13450005,
          13439074,
          12507646,
          12668715,
          12732637,
          12998424,
          12127340,
          13652613
         ],
         "xaxis": "x20",
         "y": [
          435365434,
          359300315,
          359601088,
          317315823,
          346286101,
          341503900,
          363734521,
          321296632,
          379918779
         ],
         "yaxis": "y20"
        },
        {
         "legendgroup": "orig",
         "marker": {
          "color": "#636EFA",
          "size": 5
         },
         "mode": "markers",
         "name": "orig",
         "showlegend": false,
         "text": [
          0,
          1,
          2,
          3,
          4,
          5,
          6,
          7,
          8
         ],
         "type": "scatter",
         "x": [
          8988107,
          9332531,
          9381341,
          9276404,
          9209194,
          9289919,
          9417551,
          9519001,
          9295181
         ],
         "xaxis": "x21",
         "y": [
          8988107,
          9332531,
          9381341,
          9276404,
          9209194,
          9289919,
          9417551,
          9519001,
          9295181
         ],
         "yaxis": "y21"
        },
        {
         "legendgroup": "nc_static",
         "marker": {
          "color": "#EF553B",
          "size": 5
         },
         "mode": "markers",
         "name": "nc_static",
         "showlegend": false,
         "text": [
          0,
          1,
          2,
          3,
          4,
          5,
          6,
          7,
          8
         ],
         "type": "scatter",
         "x": [
          8997918,
          9233012,
          9549690,
          9191926,
          9122782,
          9306726,
          9062737,
          9338292,
          9410813
         ],
         "xaxis": "x21",
         "y": [
          8997918,
          9233012,
          9549690,
          9191926,
          9122782,
          9306726,
          9062737,
          9338292,
          9410813
         ],
         "yaxis": "y21"
        },
        {
         "legendgroup": "nocall",
         "marker": {
          "color": "#00CC96",
          "size": 5
         },
         "mode": "markers",
         "name": "nocall",
         "showlegend": false,
         "text": [
          0,
          1,
          2,
          3,
          4,
          5,
          6,
          7,
          8
         ],
         "type": "scatter",
         "x": [
          8873416,
          9294166,
          9261290,
          9273389,
          9351369,
          9187517,
          9195099,
          9530735,
          9214923
         ],
         "xaxis": "x21",
         "y": [
          8873416,
          9294166,
          9261290,
          9273389,
          9351369,
          9187517,
          9195099,
          9530735,
          9214923
         ],
         "yaxis": "y21"
        },
        {
         "legendgroup": "orig",
         "marker": {
          "color": "#636EFA",
          "size": 5
         },
         "mode": "markers",
         "name": "orig",
         "showlegend": false,
         "text": [
          0,
          1,
          2,
          3,
          4,
          5,
          6,
          7,
          8
         ],
         "type": "scatter",
         "x": [
          7990580,
          9612500,
          8477476,
          8911268,
          8311347,
          8828451,
          8543947,
          8750161,
          9276606
         ],
         "xaxis": "x22",
         "y": [
          8988107,
          9332531,
          9381341,
          9276404,
          9209194,
          9289919,
          9417551,
          9519001,
          9295181
         ],
         "yaxis": "y22"
        },
        {
         "legendgroup": "nc_static",
         "marker": {
          "color": "#EF553B",
          "size": 5
         },
         "mode": "markers",
         "name": "nc_static",
         "showlegend": false,
         "text": [
          0,
          1,
          2,
          3,
          4,
          5,
          6,
          7,
          8
         ],
         "type": "scatter",
         "x": [
          7845473,
          9012334,
          8276681,
          8159771,
          7410463,
          7973288,
          7860807,
          8051527,
          7879983
         ],
         "xaxis": "x22",
         "y": [
          8997918,
          9233012,
          9549690,
          9191926,
          9122782,
          9306726,
          9062737,
          9338292,
          9410813
         ],
         "yaxis": "y22"
        },
        {
         "legendgroup": "nocall",
         "marker": {
          "color": "#00CC96",
          "size": 5
         },
         "mode": "markers",
         "name": "nocall",
         "showlegend": false,
         "text": [
          0,
          1,
          2,
          3,
          4,
          5,
          6,
          7,
          8
         ],
         "type": "scatter",
         "x": [
          8369666,
          8780336,
          8944088,
          8785507,
          8335240,
          8657918,
          8646522,
          8078400,
          8665452
         ],
         "xaxis": "x22",
         "y": [
          8873416,
          9294166,
          9261290,
          9273389,
          9351369,
          9187517,
          9195099,
          9530735,
          9214923
         ],
         "yaxis": "y22"
        },
        {
         "legendgroup": "orig",
         "marker": {
          "color": "#636EFA",
          "size": 5
         },
         "mode": "markers",
         "name": "orig",
         "showlegend": false,
         "text": [
          0,
          1,
          2,
          3,
          4,
          5,
          6,
          7,
          8
         ],
         "type": "scatter",
         "x": [
          912378135,
          940152275,
          956186648,
          957771996,
          948304470,
          948930930,
          948629764,
          966336564,
          929956833
         ],
         "xaxis": "x23",
         "y": [
          8988107,
          9332531,
          9381341,
          9276404,
          9209194,
          9289919,
          9417551,
          9519001,
          9295181
         ],
         "yaxis": "y23"
        },
        {
         "legendgroup": "nc_static",
         "marker": {
          "color": "#EF553B",
          "size": 5
         },
         "mode": "markers",
         "name": "nc_static",
         "showlegend": false,
         "text": [
          0,
          1,
          2,
          3,
          4,
          5,
          6,
          7,
          8
         ],
         "type": "scatter",
         "x": [
          912874439,
          939537862,
          956520208,
          957956067,
          949002574,
          948675918,
          949093974,
          966099349,
          929498443
         ],
         "xaxis": "x23",
         "y": [
          8997918,
          9233012,
          9549690,
          9191926,
          9122782,
          9306726,
          9062737,
          9338292,
          9410813
         ],
         "yaxis": "y23"
        },
        {
         "legendgroup": "nocall",
         "marker": {
          "color": "#00CC96",
          "size": 5
         },
         "mode": "markers",
         "name": "nocall",
         "showlegend": false,
         "text": [
          0,
          1,
          2,
          3,
          4,
          5,
          6,
          7,
          8
         ],
         "type": "scatter",
         "x": [
          913073274,
          939609873,
          956926954,
          957999613,
          948362199,
          948626602,
          949125021,
          965874235,
          929825983
         ],
         "xaxis": "x23",
         "y": [
          8873416,
          9294166,
          9261290,
          9273389,
          9351369,
          9187517,
          9195099,
          9530735,
          9214923
         ],
         "yaxis": "y23"
        },
        {
         "legendgroup": "orig",
         "marker": {
          "color": "#636EFA",
          "size": 5
         },
         "mode": "markers",
         "name": "orig",
         "showlegend": false,
         "text": [
          0,
          1,
          2,
          3,
          4,
          5,
          6,
          7,
          8
         ],
         "type": "scatter",
         "x": [
          1007050,
          11602087,
          14737038,
          13843673,
          13434435,
          13170337,
          16933975,
          912578,
          13493585
         ],
         "xaxis": "x24",
         "y": [
          8988107,
          9332531,
          9381341,
          9276404,
          9209194,
          9289919,
          9417551,
          9519001,
          9295181
         ],
         "yaxis": "y24"
        },
        {
         "legendgroup": "nc_static",
         "marker": {
          "color": "#EF553B",
          "size": 5
         },
         "mode": "markers",
         "name": "nc_static",
         "showlegend": false,
         "text": [
          0,
          1,
          2,
          3,
          4,
          5,
          6,
          7,
          8
         ],
         "type": "scatter",
         "x": [
          1065909,
          5641397,
          9028469,
          7336133,
          6026189,
          5478744,
          10063922,
          5869460,
          7155553
         ],
         "xaxis": "x24",
         "y": [
          8997918,
          9233012,
          9549690,
          9191926,
          9122782,
          9306726,
          9062737,
          9338292,
          9410813
         ],
         "yaxis": "y24"
        },
        {
         "legendgroup": "nocall",
         "marker": {
          "color": "#00CC96",
          "size": 5
         },
         "mode": "markers",
         "name": "nocall",
         "showlegend": false,
         "text": [
          0,
          1,
          2,
          3,
          4,
          5,
          6,
          7,
          8
         ],
         "type": "scatter",
         "x": [
          1021748,
          11436077,
          14614364,
          13747109,
          13194806,
          12920384,
          16637900,
          911225,
          13180778
         ],
         "xaxis": "x24",
         "y": [
          8873416,
          9294166,
          9261290,
          9273389,
          9351369,
          9187517,
          9195099,
          9530735,
          9214923
         ],
         "yaxis": "y24"
        }
       ],
       "layout": {
        "height": 2200,
        "template": {
         "data": {
          "bar": [
           {
            "error_x": {
             "color": "#2a3f5f"
            },
            "error_y": {
             "color": "#2a3f5f"
            },
            "marker": {
             "line": {
              "color": "#E5ECF6",
              "width": 0.5
             }
            },
            "type": "bar"
           }
          ],
          "barpolar": [
           {
            "marker": {
             "line": {
              "color": "#E5ECF6",
              "width": 0.5
             }
            },
            "type": "barpolar"
           }
          ],
          "carpet": [
           {
            "aaxis": {
             "endlinecolor": "#2a3f5f",
             "gridcolor": "white",
             "linecolor": "white",
             "minorgridcolor": "white",
             "startlinecolor": "#2a3f5f"
            },
            "baxis": {
             "endlinecolor": "#2a3f5f",
             "gridcolor": "white",
             "linecolor": "white",
             "minorgridcolor": "white",
             "startlinecolor": "#2a3f5f"
            },
            "type": "carpet"
           }
          ],
          "choropleth": [
           {
            "colorbar": {
             "outlinewidth": 0,
             "ticks": ""
            },
            "type": "choropleth"
           }
          ],
          "contour": [
           {
            "colorbar": {
             "outlinewidth": 0,
             "ticks": ""
            },
            "colorscale": [
             [
              0,
              "#0d0887"
             ],
             [
              0.1111111111111111,
              "#46039f"
             ],
             [
              0.2222222222222222,
              "#7201a8"
             ],
             [
              0.3333333333333333,
              "#9c179e"
             ],
             [
              0.4444444444444444,
              "#bd3786"
             ],
             [
              0.5555555555555556,
              "#d8576b"
             ],
             [
              0.6666666666666666,
              "#ed7953"
             ],
             [
              0.7777777777777778,
              "#fb9f3a"
             ],
             [
              0.8888888888888888,
              "#fdca26"
             ],
             [
              1,
              "#f0f921"
             ]
            ],
            "type": "contour"
           }
          ],
          "contourcarpet": [
           {
            "colorbar": {
             "outlinewidth": 0,
             "ticks": ""
            },
            "type": "contourcarpet"
           }
          ],
          "heatmap": [
           {
            "colorbar": {
             "outlinewidth": 0,
             "ticks": ""
            },
            "colorscale": [
             [
              0,
              "#0d0887"
             ],
             [
              0.1111111111111111,
              "#46039f"
             ],
             [
              0.2222222222222222,
              "#7201a8"
             ],
             [
              0.3333333333333333,
              "#9c179e"
             ],
             [
              0.4444444444444444,
              "#bd3786"
             ],
             [
              0.5555555555555556,
              "#d8576b"
             ],
             [
              0.6666666666666666,
              "#ed7953"
             ],
             [
              0.7777777777777778,
              "#fb9f3a"
             ],
             [
              0.8888888888888888,
              "#fdca26"
             ],
             [
              1,
              "#f0f921"
             ]
            ],
            "type": "heatmap"
           }
          ],
          "heatmapgl": [
           {
            "colorbar": {
             "outlinewidth": 0,
             "ticks": ""
            },
            "colorscale": [
             [
              0,
              "#0d0887"
             ],
             [
              0.1111111111111111,
              "#46039f"
             ],
             [
              0.2222222222222222,
              "#7201a8"
             ],
             [
              0.3333333333333333,
              "#9c179e"
             ],
             [
              0.4444444444444444,
              "#bd3786"
             ],
             [
              0.5555555555555556,
              "#d8576b"
             ],
             [
              0.6666666666666666,
              "#ed7953"
             ],
             [
              0.7777777777777778,
              "#fb9f3a"
             ],
             [
              0.8888888888888888,
              "#fdca26"
             ],
             [
              1,
              "#f0f921"
             ]
            ],
            "type": "heatmapgl"
           }
          ],
          "histogram": [
           {
            "marker": {
             "colorbar": {
              "outlinewidth": 0,
              "ticks": ""
             }
            },
            "type": "histogram"
           }
          ],
          "histogram2d": [
           {
            "colorbar": {
             "outlinewidth": 0,
             "ticks": ""
            },
            "colorscale": [
             [
              0,
              "#0d0887"
             ],
             [
              0.1111111111111111,
              "#46039f"
             ],
             [
              0.2222222222222222,
              "#7201a8"
             ],
             [
              0.3333333333333333,
              "#9c179e"
             ],
             [
              0.4444444444444444,
              "#bd3786"
             ],
             [
              0.5555555555555556,
              "#d8576b"
             ],
             [
              0.6666666666666666,
              "#ed7953"
             ],
             [
              0.7777777777777778,
              "#fb9f3a"
             ],
             [
              0.8888888888888888,
              "#fdca26"
             ],
             [
              1,
              "#f0f921"
             ]
            ],
            "type": "histogram2d"
           }
          ],
          "histogram2dcontour": [
           {
            "colorbar": {
             "outlinewidth": 0,
             "ticks": ""
            },
            "colorscale": [
             [
              0,
              "#0d0887"
             ],
             [
              0.1111111111111111,
              "#46039f"
             ],
             [
              0.2222222222222222,
              "#7201a8"
             ],
             [
              0.3333333333333333,
              "#9c179e"
             ],
             [
              0.4444444444444444,
              "#bd3786"
             ],
             [
              0.5555555555555556,
              "#d8576b"
             ],
             [
              0.6666666666666666,
              "#ed7953"
             ],
             [
              0.7777777777777778,
              "#fb9f3a"
             ],
             [
              0.8888888888888888,
              "#fdca26"
             ],
             [
              1,
              "#f0f921"
             ]
            ],
            "type": "histogram2dcontour"
           }
          ],
          "mesh3d": [
           {
            "colorbar": {
             "outlinewidth": 0,
             "ticks": ""
            },
            "type": "mesh3d"
           }
          ],
          "parcoords": [
           {
            "line": {
             "colorbar": {
              "outlinewidth": 0,
              "ticks": ""
             }
            },
            "type": "parcoords"
           }
          ],
          "pie": [
           {
            "automargin": true,
            "type": "pie"
           }
          ],
          "scatter": [
           {
            "marker": {
             "colorbar": {
              "outlinewidth": 0,
              "ticks": ""
             }
            },
            "type": "scatter"
           }
          ],
          "scatter3d": [
           {
            "line": {
             "colorbar": {
              "outlinewidth": 0,
              "ticks": ""
             }
            },
            "marker": {
             "colorbar": {
              "outlinewidth": 0,
              "ticks": ""
             }
            },
            "type": "scatter3d"
           }
          ],
          "scattercarpet": [
           {
            "marker": {
             "colorbar": {
              "outlinewidth": 0,
              "ticks": ""
             }
            },
            "type": "scattercarpet"
           }
          ],
          "scattergeo": [
           {
            "marker": {
             "colorbar": {
              "outlinewidth": 0,
              "ticks": ""
             }
            },
            "type": "scattergeo"
           }
          ],
          "scattergl": [
           {
            "marker": {
             "colorbar": {
              "outlinewidth": 0,
              "ticks": ""
             }
            },
            "type": "scattergl"
           }
          ],
          "scattermapbox": [
           {
            "marker": {
             "colorbar": {
              "outlinewidth": 0,
              "ticks": ""
             }
            },
            "type": "scattermapbox"
           }
          ],
          "scatterpolar": [
           {
            "marker": {
             "colorbar": {
              "outlinewidth": 0,
              "ticks": ""
             }
            },
            "type": "scatterpolar"
           }
          ],
          "scatterpolargl": [
           {
            "marker": {
             "colorbar": {
              "outlinewidth": 0,
              "ticks": ""
             }
            },
            "type": "scatterpolargl"
           }
          ],
          "scatterternary": [
           {
            "marker": {
             "colorbar": {
              "outlinewidth": 0,
              "ticks": ""
             }
            },
            "type": "scatterternary"
           }
          ],
          "surface": [
           {
            "colorbar": {
             "outlinewidth": 0,
             "ticks": ""
            },
            "colorscale": [
             [
              0,
              "#0d0887"
             ],
             [
              0.1111111111111111,
              "#46039f"
             ],
             [
              0.2222222222222222,
              "#7201a8"
             ],
             [
              0.3333333333333333,
              "#9c179e"
             ],
             [
              0.4444444444444444,
              "#bd3786"
             ],
             [
              0.5555555555555556,
              "#d8576b"
             ],
             [
              0.6666666666666666,
              "#ed7953"
             ],
             [
              0.7777777777777778,
              "#fb9f3a"
             ],
             [
              0.8888888888888888,
              "#fdca26"
             ],
             [
              1,
              "#f0f921"
             ]
            ],
            "type": "surface"
           }
          ],
          "table": [
           {
            "cells": {
             "fill": {
              "color": "#EBF0F8"
             },
             "line": {
              "color": "white"
             }
            },
            "header": {
             "fill": {
              "color": "#C8D4E3"
             },
             "line": {
              "color": "white"
             }
            },
            "type": "table"
           }
          ]
         },
         "layout": {
          "annotationdefaults": {
           "arrowcolor": "#2a3f5f",
           "arrowhead": 0,
           "arrowwidth": 1
          },
          "coloraxis": {
           "colorbar": {
            "outlinewidth": 0,
            "ticks": ""
           }
          },
          "colorscale": {
           "diverging": [
            [
             0,
             "#8e0152"
            ],
            [
             0.1,
             "#c51b7d"
            ],
            [
             0.2,
             "#de77ae"
            ],
            [
             0.3,
             "#f1b6da"
            ],
            [
             0.4,
             "#fde0ef"
            ],
            [
             0.5,
             "#f7f7f7"
            ],
            [
             0.6,
             "#e6f5d0"
            ],
            [
             0.7,
             "#b8e186"
            ],
            [
             0.8,
             "#7fbc41"
            ],
            [
             0.9,
             "#4d9221"
            ],
            [
             1,
             "#276419"
            ]
           ],
           "sequential": [
            [
             0,
             "#0d0887"
            ],
            [
             0.1111111111111111,
             "#46039f"
            ],
            [
             0.2222222222222222,
             "#7201a8"
            ],
            [
             0.3333333333333333,
             "#9c179e"
            ],
            [
             0.4444444444444444,
             "#bd3786"
            ],
            [
             0.5555555555555556,
             "#d8576b"
            ],
            [
             0.6666666666666666,
             "#ed7953"
            ],
            [
             0.7777777777777778,
             "#fb9f3a"
            ],
            [
             0.8888888888888888,
             "#fdca26"
            ],
            [
             1,
             "#f0f921"
            ]
           ],
           "sequentialminus": [
            [
             0,
             "#0d0887"
            ],
            [
             0.1111111111111111,
             "#46039f"
            ],
            [
             0.2222222222222222,
             "#7201a8"
            ],
            [
             0.3333333333333333,
             "#9c179e"
            ],
            [
             0.4444444444444444,
             "#bd3786"
            ],
            [
             0.5555555555555556,
             "#d8576b"
            ],
            [
             0.6666666666666666,
             "#ed7953"
            ],
            [
             0.7777777777777778,
             "#fb9f3a"
            ],
            [
             0.8888888888888888,
             "#fdca26"
            ],
            [
             1,
             "#f0f921"
            ]
           ]
          },
          "colorway": [
           "#636efa",
           "#EF553B",
           "#00cc96",
           "#ab63fa",
           "#FFA15A",
           "#19d3f3",
           "#FF6692",
           "#B6E880",
           "#FF97FF",
           "#FECB52"
          ],
          "font": {
           "color": "#2a3f5f"
          },
          "geo": {
           "bgcolor": "white",
           "lakecolor": "white",
           "landcolor": "#E5ECF6",
           "showlakes": true,
           "showland": true,
           "subunitcolor": "white"
          },
          "hoverlabel": {
           "align": "left"
          },
          "hovermode": "closest",
          "mapbox": {
           "style": "light"
          },
          "paper_bgcolor": "white",
          "plot_bgcolor": "#E5ECF6",
          "polar": {
           "angularaxis": {
            "gridcolor": "white",
            "linecolor": "white",
            "ticks": ""
           },
           "bgcolor": "#E5ECF6",
           "radialaxis": {
            "gridcolor": "white",
            "linecolor": "white",
            "ticks": ""
           }
          },
          "scene": {
           "xaxis": {
            "backgroundcolor": "#E5ECF6",
            "gridcolor": "white",
            "gridwidth": 2,
            "linecolor": "white",
            "showbackground": true,
            "ticks": "",
            "zerolinecolor": "white"
           },
           "yaxis": {
            "backgroundcolor": "#E5ECF6",
            "gridcolor": "white",
            "gridwidth": 2,
            "linecolor": "white",
            "showbackground": true,
            "ticks": "",
            "zerolinecolor": "white"
           },
           "zaxis": {
            "backgroundcolor": "#E5ECF6",
            "gridcolor": "white",
            "gridwidth": 2,
            "linecolor": "white",
            "showbackground": true,
            "ticks": "",
            "zerolinecolor": "white"
           }
          },
          "shapedefaults": {
           "line": {
            "color": "#2a3f5f"
           }
          },
          "ternary": {
           "aaxis": {
            "gridcolor": "white",
            "linecolor": "white",
            "ticks": ""
           },
           "baxis": {
            "gridcolor": "white",
            "linecolor": "white",
            "ticks": ""
           },
           "bgcolor": "#E5ECF6",
           "caxis": {
            "gridcolor": "white",
            "linecolor": "white",
            "ticks": ""
           }
          },
          "title": {
           "x": 0.05
          },
          "xaxis": {
           "automargin": true,
           "gridcolor": "white",
           "linecolor": "white",
           "ticks": "",
           "title": {
            "standoff": 15
           },
           "zerolinecolor": "white",
           "zerolinewidth": 2
          },
          "yaxis": {
           "automargin": true,
           "gridcolor": "white",
           "linecolor": "white",
           "ticks": "",
           "title": {
            "standoff": 15
           },
           "zerolinecolor": "white",
           "zerolinewidth": 2
          }
         }
        },
        "title": {
         "text": "Metric X Metrix Scatter Plots --- Top 6 Timers sort by TIME in Original Run <br> MPI and TAU ommitted & \"***custom:\" Removed from timer strings"
        },
        "width": 1500,
        "xaxis": {
         "anchor": "y",
         "autorange": true,
         "domain": [
          0,
          0.22
         ],
         "range": [
          671753068.3246692,
          1346760456.6753306
         ],
         "title": {
          "standoff": 5,
          "text": "PAPI_L1_DCM"
         },
         "type": "linear"
        },
        "xaxis10": {
         "anchor": "y10",
         "autorange": true,
         "domain": [
          0.26,
          0.48
         ],
         "range": [
          42895409.20093855,
          623907714.7990614
         ],
         "title": {
          "standoff": 5,
          "text": "PAPI_RES_STL"
         },
         "type": "linear"
        },
        "xaxis11": {
         "anchor": "y11",
         "autorange": true,
         "domain": [
          0.52,
          0.74
         ],
         "range": [
          111240332801.64978,
          118723417796.35022
         ],
         "title": {
          "standoff": 5,
          "text": "PAPI_TOT_INS"
         },
         "type": "linear"
        },
        "xaxis12": {
         "anchor": "y12",
         "autorange": true,
         "domain": [
          0.78,
          1
         ],
         "range": [
          90086995.19493103,
          102583517.80506897
         ],
         "title": {
          "standoff": 5,
          "text": "TIME"
         },
         "type": "linear"
        },
        "xaxis13": {
         "anchor": "y13",
         "autorange": true,
         "domain": [
          0,
          0.22
         ],
         "range": [
          18669865.32139245,
          20267655.67860755
         ],
         "title": {
          "standoff": 5,
          "text": "PAPI_L1_DCM"
         },
         "type": "linear"
        },
        "xaxis14": {
         "anchor": "y14",
         "autorange": true,
         "domain": [
          0.26,
          0.48
         ],
         "range": [
          772423732.1541325,
          896088111.8458675
         ],
         "title": {
          "standoff": 5,
          "text": "PAPI_RES_STL"
         },
         "type": "linear"
        },
        "xaxis15": {
         "anchor": "y15",
         "autorange": true,
         "domain": [
          0.52,
          0.74
         ],
         "range": [
          21455021983.795017,
          22907467158.204983
         ],
         "title": {
          "standoff": 5,
          "text": "PAPI_TOT_INS"
         },
         "type": "linear"
        },
        "xaxis16": {
         "anchor": "y16",
         "autorange": true,
         "domain": [
          0.78,
          1
         ],
         "range": [
          15318527.006897528,
          17800665.993102472
         ],
         "title": {
          "standoff": 5,
          "text": "TIME"
         },
         "type": "linear"
        },
        "xaxis17": {
         "anchor": "y17",
         "autorange": true,
         "domain": [
          0,
          0.22
         ],
         "range": [
          307837310.7821109,
          443664083.2178891
         ],
         "title": {
          "standoff": 5,
          "text": "PAPI_L1_DCM"
         },
         "type": "linear"
        },
        "xaxis18": {
         "anchor": "y18",
         "autorange": true,
         "domain": [
          0.26,
          0.48
         ],
         "range": [
          327331012.6835228,
          554998979.3164772
         ],
         "title": {
          "standoff": 5,
          "text": "PAPI_RES_STL"
         },
         "type": "linear"
        },
        "xaxis19": {
         "anchor": "y19",
         "autorange": true,
         "domain": [
          0.52,
          0.74
         ],
         "range": [
          8922802835.074234,
          11448127964.925766
         ],
         "title": {
          "standoff": 5,
          "text": "PAPI_TOT_INS"
         },
         "type": "linear"
        },
        "xaxis2": {
         "anchor": "y2",
         "autorange": true,
         "domain": [
          0.26,
          0.48
         ],
         "range": [
          1068579397.342267,
          6935603995.657733
         ],
         "title": {
          "standoff": 5,
          "text": "PAPI_RES_STL"
         },
         "type": "linear"
        },
        "xaxis20": {
         "anchor": "y20",
         "autorange": true,
         "domain": [
          0.78,
          1
         ],
         "range": [
          11678746.714187467,
          16443757.285812533
         ],
         "title": {
          "standoff": 5,
          "text": "TIME"
         },
         "type": "linear"
        },
        "xaxis21": {
         "anchor": "y21",
         "autorange": true,
         "domain": [
          0,
          0.22
         ],
         "range": [
          8826345.753752174,
          9596760.246247826
         ],
         "title": {
          "standoff": 5,
          "text": "PAPI_L1_DCM"
         },
         "type": "linear"
        },
        "xaxis22": {
         "anchor": "y22",
         "autorange": true,
         "domain": [
          0.26,
          0.48
         ],
         "range": [
          7257196.093632429,
          9765766.906367572
         ],
         "title": {
          "standoff": 5,
          "text": "PAPI_RES_STL"
         },
         "type": "linear"
        },
        "xaxis23": {
         "anchor": "y23",
         "autorange": true,
         "domain": [
          0.52,
          0.74
         ],
         "range": [
          908622502.6081355,
          970092196.3918645
         ],
         "title": {
          "standoff": 5,
          "text": "PAPI_TOT_INS"
         },
         "type": "linear"
        },
        "xaxis24": {
         "anchor": "y24",
         "autorange": true,
         "domain": [
          0.78,
          1
         ],
         "range": [
          -203995.73607346579,
          18049195.736073464
         ],
         "title": {
          "standoff": 5,
          "text": "TIME"
         },
         "type": "linear"
        },
        "xaxis3": {
         "anchor": "y3",
         "autorange": true,
         "domain": [
          0.52,
          0.74
         ],
         "range": [
          521358940509.08594,
          647074318259.9141
         ],
         "title": {
          "standoff": 5,
          "text": "PAPI_TOT_INS"
         },
         "type": "linear"
        },
        "xaxis4": {
         "anchor": "y4",
         "autorange": true,
         "domain": [
          0.78,
          1
         ],
         "range": [
          344721084.4727335,
          584142912.5272665
         ],
         "title": {
          "standoff": 5,
          "text": "TIME"
         },
         "type": "linear"
        },
        "xaxis5": {
         "anchor": "y5",
         "autorange": true,
         "domain": [
          0,
          0.22
         ],
         "range": [
          2796757157.594664,
          3380974557.405336
         ],
         "title": {
          "standoff": 5,
          "text": "PAPI_L1_DCM"
         },
         "type": "linear"
        },
        "xaxis6": {
         "anchor": "y6",
         "autorange": true,
         "domain": [
          0.26,
          0.48
         ],
         "range": [
          3363854584.9109592,
          4986058827.089041
         ],
         "title": {
          "standoff": 5,
          "text": "PAPI_RES_STL"
         },
         "type": "linear"
        },
        "xaxis7": {
         "anchor": "y7",
         "autorange": true,
         "domain": [
          0.52,
          0.74
         ],
         "range": [
          75214228738.93813,
          115180099238.06187
         ],
         "title": {
          "standoff": 5,
          "text": "PAPI_TOT_INS"
         },
         "type": "linear"
        },
        "xaxis8": {
         "anchor": "y8",
         "autorange": true,
         "domain": [
          0.78,
          1
         ],
         "range": [
          93672800.19903718,
          155396079.80096284
         ],
         "title": {
          "standoff": 5,
          "text": "TIME"
         },
         "type": "linear"
        },
        "xaxis9": {
         "anchor": "y9",
         "autorange": true,
         "domain": [
          0,
          0.22
         ],
         "range": [
          91829500.0760144,
          173169261.9239856
         ],
         "title": {
          "standoff": 5,
          "text": "PAPI_L1_DCM"
         },
         "type": "linear"
        },
        "yaxis": {
         "anchor": "x",
         "autorange": true,
         "domain": [
          0.8583333333333333,
          1
         ],
         "range": [
          671889191.7038069,
          1346624333.2961931
         ],
         "title": {
          "standoff": 5,
          "text": "RiemannState <br> PAPI_L1_DCM"
         },
         "type": "linear"
        },
        "yaxis10": {
         "anchor": "x10",
         "autorange": true,
         "domain": [
          0.515,
          0.6566666666666667
         ],
         "range": [
          91845903.21979043,
          173152858.78020957
         ],
         "type": "linear"
        },
        "yaxis11": {
         "anchor": "x11",
         "autorange": true,
         "domain": [
          0.515,
          0.6566666666666667
         ],
         "range": [
          91845903.21979043,
          173152858.78020957
         ],
         "type": "linear"
        },
        "yaxis12": {
         "anchor": "x12",
         "autorange": true,
         "domain": [
          0.515,
          0.6566666666666667
         ],
         "range": [
          91845903.21979043,
          173152858.78020957
         ],
         "type": "linear"
        },
        "yaxis13": {
         "anchor": "x13",
         "autorange": true,
         "domain": [
          0.3433333333333333,
          0.485
         ],
         "range": [
          18670187.53508423,
          20267333.46491577
         ],
         "title": {
          "standoff": 5,
          "text": "unsplitUpdate <br> PAPI_L1_DCM"
         },
         "type": "linear"
        },
        "yaxis14": {
         "anchor": "x14",
         "autorange": true,
         "domain": [
          0.3433333333333333,
          0.485
         ],
         "range": [
          18670187.53508423,
          20267333.46491577
         ],
         "type": "linear"
        },
        "yaxis15": {
         "anchor": "x15",
         "autorange": true,
         "domain": [
          0.3433333333333333,
          0.485
         ],
         "range": [
          18670187.53508423,
          20267333.46491577
         ],
         "type": "linear"
        },
        "yaxis16": {
         "anchor": "x16",
         "autorange": true,
         "domain": [
          0.3433333333333333,
          0.485
         ],
         "range": [
          18670187.53508423,
          20267333.46491577
         ],
         "type": "linear"
        },
        "yaxis17": {
         "anchor": "x17",
         "autorange": true,
         "domain": [
          0.17166666666666666,
          0.31333333333333335
         ],
         "range": [
          307864701.88857937,
          443636692.11142063
         ],
         "title": {
          "standoff": 5,
          "text": "tree <br> PAPI_L1_DCM"
         },
         "type": "linear"
        },
        "yaxis18": {
         "anchor": "x18",
         "autorange": true,
         "domain": [
          0.17166666666666666,
          0.31333333333333335
         ],
         "range": [
          307864701.88857937,
          443636692.11142063
         ],
         "type": "linear"
        },
        "yaxis19": {
         "anchor": "x19",
         "autorange": true,
         "domain": [
          0.17166666666666666,
          0.31333333333333335
         ],
         "range": [
          307864701.88857937,
          443636692.11142063
         ],
         "type": "linear"
        },
        "yaxis2": {
         "anchor": "x2",
         "autorange": true,
         "domain": [
          0.8583333333333333,
          1
         ],
         "range": [
          671889191.7038069,
          1346624333.2961931
         ],
         "type": "linear"
        },
        "yaxis20": {
         "anchor": "x20",
         "autorange": true,
         "domain": [
          0.17166666666666666,
          0.31333333333333335
         ],
         "range": [
          307864701.88857937,
          443636692.11142063
         ],
         "type": "linear"
        },
        "yaxis21": {
         "anchor": "x21",
         "autorange": true,
         "domain": [
          0,
          0.14166666666666666
         ],
         "range": [
          8826501.117124287,
          9596604.882875713
         ],
         "title": {
          "standoff": 5,
          "text": "Hydro <br> PAPI_L1_DCM"
         },
         "type": "linear"
        },
        "yaxis22": {
         "anchor": "x22",
         "autorange": true,
         "domain": [
          0,
          0.14166666666666666
         ],
         "range": [
          8826501.117124287,
          9596604.882875713
         ],
         "type": "linear"
        },
        "yaxis23": {
         "anchor": "x23",
         "autorange": true,
         "domain": [
          0,
          0.14166666666666666
         ],
         "range": [
          8826501.117124287,
          9596604.882875713
         ],
         "type": "linear"
        },
        "yaxis24": {
         "anchor": "x24",
         "autorange": true,
         "domain": [
          0,
          0.14166666666666666
         ],
         "range": [
          8826501.117124287,
          9596604.882875713
         ],
         "type": "linear"
        },
        "yaxis3": {
         "anchor": "x3",
         "autorange": true,
         "domain": [
          0.8583333333333333,
          1
         ],
         "range": [
          671889191.7038069,
          1346624333.2961931
         ],
         "type": "linear"
        },
        "yaxis4": {
         "anchor": "x4",
         "autorange": true,
         "domain": [
          0.8583333333333333,
          1
         ],
         "range": [
          671889191.7038069,
          1346624333.2961931
         ],
         "type": "linear"
        },
        "yaxis5": {
         "anchor": "x5",
         "autorange": true,
         "domain": [
          0.6866666666666666,
          0.8283333333333334
         ],
         "range": [
          2796874972.077862,
          3380856742.922138
         ],
         "title": {
          "standoff": 5,
          "text": "amr_guardcell <br> PAPI_L1_DCM"
         },
         "type": "linear"
        },
        "yaxis6": {
         "anchor": "x6",
         "autorange": true,
         "domain": [
          0.6866666666666666,
          0.8283333333333334
         ],
         "range": [
          2796874972.077862,
          3380856742.922138
         ],
         "type": "linear"
        },
        "yaxis7": {
         "anchor": "x7",
         "autorange": true,
         "domain": [
          0.6866666666666666,
          0.8283333333333334
         ],
         "range": [
          2796874972.077862,
          3380856742.922138
         ],
         "type": "linear"
        },
        "yaxis8": {
         "anchor": "x8",
         "autorange": true,
         "domain": [
          0.6866666666666666,
          0.8283333333333334
         ],
         "range": [
          2796874972.077862,
          3380856742.922138
         ],
         "type": "linear"
        },
        "yaxis9": {
         "anchor": "x9",
         "autorange": true,
         "domain": [
          0.515,
          0.6566666666666667
         ],
         "range": [
          91845903.21979043,
          173152858.78020957
         ],
         "title": {
          "standoff": 5,
          "text": "getFaceFlux <br> PAPI_L1_DCM"
         },
         "type": "linear"
        }
       }
      },
      "image/png": "[encoded data removed]",
      "text/html": [
       "<div>\n",
       "        \n",
       "        \n",
       "            <div id=\"5b214d81-647e-4aaa-b1f6-3866cc9e4220\" class=\"plotly-graph-div\" style=\"height:2200px; width:1500px;\"></div>\n",
       "            <script type=\"text/javascript\">\n",
       "                require([\"plotly\"], function(Plotly) {\n",
       "                    window.PLOTLYENV=window.PLOTLYENV || {};\n",
       "                    \n",
       "                if (document.getElementById(\"5b214d81-647e-4aaa-b1f6-3866cc9e4220\")) {\n",
       "                    Plotly.newPlot(\n",
       "                        '5b214d81-647e-4aaa-b1f6-3866cc9e4220',\n",
       "                        [{\"legendgroup\": \"orig\", \"marker\": {\"color\": \"#636EFA\", \"size\": 5}, \"mode\": \"markers\", \"name\": \"orig\", \"showlegend\": true, \"text\": [0.0, 1.0, 2.0, 3.0, 4.0, 5.0, 6.0, 7.0, 8.0], \"type\": \"scatter\", \"x\": [1305519327.0, 724504820.0, 732510307.0, 744616022.0, 739377315.0, 732440740.0, 727027526.0, 803597945.0, 720772347.0], \"xaxis\": \"x\", \"y\": [1305519327.0, 724504820.0, 732510307.0, 744616022.0, 739377315.0, 732440740.0, 727027526.0, 803597945.0, 720772347.0], \"yaxis\": \"y\"}, {\"legendgroup\": \"nc_static\", \"marker\": {\"color\": \"#EF553B\", \"size\": 5}, \"mode\": \"markers\", \"name\": \"nc_static\", \"showlegend\": true, \"text\": [0.0, 1.0, 2.0, 3.0, 4.0, 5.0, 6.0, 7.0, 8.0], \"type\": \"scatter\", \"x\": [917732158.0, 724755659.0, 740014053.0, 738289708.0, 735426160.0, 731454468.0, 733063173.0, 744697855.0, 714561899.0], \"xaxis\": \"x\", \"y\": [917732158.0, 724755659.0, 740014053.0, 738289708.0, 735426160.0, 731454468.0, 733063173.0, 744697855.0, 714561899.0], \"yaxis\": \"y\"}, {\"legendgroup\": \"nocall\", \"marker\": {\"color\": \"#00CC96\", \"size\": 5}, \"mode\": \"markers\", \"name\": \"nocall\", \"showlegend\": true, \"text\": [0.0, 1.0, 2.0, 3.0, 4.0, 5.0, 6.0, 7.0, 8.0], \"type\": \"scatter\", \"x\": [1295192325.0, 718420076.0, 746232719.0, 737704410.0, 734684304.0, 731380547.0, 730713308.0, 796411544.0, 712994198.0], \"xaxis\": \"x\", \"y\": [1295192325.0, 718420076.0, 746232719.0, 737704410.0, 734684304.0, 731380547.0, 730713308.0, 796411544.0, 712994198.0], \"yaxis\": \"y\"}, {\"legendgroup\": \"orig\", \"marker\": {\"color\": \"#636EFA\", \"size\": 5}, \"mode\": \"markers\", \"name\": \"orig\", \"showlegend\": false, \"text\": [0.0, 1.0, 2.0, 3.0, 4.0, 5.0, 6.0, 7.0, 8.0], \"type\": \"scatter\", \"x\": [6223972155.0, 1610791884.0, 1607286593.0, 1601126234.0, 1607093220.0, 1594212024.0, 1591180184.0, 1984845785.0, 1843652762.0], \"xaxis\": \"x2\", \"y\": [1305519327.0, 724504820.0, 732510307.0, 744616022.0, 739377315.0, 732440740.0, 727027526.0, 803597945.0, 720772347.0], \"yaxis\": \"y2\"}, {\"legendgroup\": \"nc_static\", \"marker\": {\"color\": \"#EF553B\", \"size\": 5}, \"mode\": \"markers\", \"name\": \"nc_static\", \"showlegend\": false, \"text\": [0.0, 1.0, 2.0, 3.0, 4.0, 5.0, 6.0, 7.0, 8.0], \"type\": \"scatter\", \"x\": [6175050872.0, 1488562882.0, 1460312036.0, 1532225112.0, 1452354434.0, 1438649900.0, 1427038766.0, 1462224540.0, 1429261324.0], \"xaxis\": \"x2\", \"y\": [917732158.0, 724755659.0, 740014053.0, 738289708.0, 735426160.0, 731454468.0, 733063173.0, 744697855.0, 714561899.0], \"yaxis\": \"y2\"}, {\"legendgroup\": \"nocall\", \"marker\": {\"color\": \"#00CC96\", \"size\": 5}, \"mode\": \"markers\", \"name\": \"nocall\", \"showlegend\": false, \"text\": [0.0, 1.0, 2.0, 3.0, 4.0, 5.0, 6.0, 7.0, 8.0], \"type\": \"scatter\", \"x\": [6577144627.0, 1540898428.0, 1569508565.0, 1607669022.0, 1588341398.0, 1641922656.0, 1540332795.0, 1958894939.0, 1614994181.0], \"xaxis\": \"x2\", \"y\": [1295192325.0, 718420076.0, 746232719.0, 737704410.0, 734684304.0, 731380547.0, 730713308.0, 796411544.0, 712994198.0], \"yaxis\": \"y2\"}, {\"legendgroup\": \"orig\", \"marker\": {\"color\": \"#636EFA\", \"size\": 5}, \"mode\": \"markers\", \"name\": \"orig\", \"showlegend\": false, \"text\": [0.0, 1.0, 2.0, 3.0, 4.0, 5.0, 6.0, 7.0, 8.0], \"type\": \"scatter\", \"x\": [529039810801.0, 544882477417.0, 554520410936.0, 555003237161.0, 549749172023.0, 549397688147.0, 549250445171.0, 559543335262.0, 538458714579.0], \"xaxis\": \"x3\", \"y\": [1305519327.0, 724504820.0, 732510307.0, 744616022.0, 739377315.0, 732440740.0, 727027526.0, 803597945.0, 720772347.0], \"yaxis\": \"y3\"}, {\"legendgroup\": \"nc_static\", \"marker\": {\"color\": \"#EF553B\", \"size\": 5}, \"mode\": \"markers\", \"name\": \"nc_static\", \"showlegend\": false, \"text\": [0.0, 1.0, 2.0, 3.0, 4.0, 5.0, 6.0, 7.0, 8.0], \"type\": \"scatter\", \"x\": [604418849280.0, 622550637335.0, 633573710260.0, 634143074032.0, 628154104042.0, 627750987462.0, 627643325797.0, 639393447968.0, 615290867174.0], \"xaxis\": \"x3\", \"y\": [917732158.0, 724755659.0, 740014053.0, 738289708.0, 735426160.0, 731454468.0, 733063173.0, 744697855.0, 714561899.0], \"yaxis\": \"y3\"}, {\"legendgroup\": \"nocall\", \"marker\": {\"color\": \"#00CC96\", \"size\": 5}, \"mode\": \"markers\", \"name\": \"nocall\", \"showlegend\": false, \"text\": [0.0, 1.0, 2.0, 3.0, 4.0, 5.0, 6.0, 7.0, 8.0], \"type\": \"scatter\", \"x\": [529040014839.0, 544882392370.0, 554520116894.0, 555003163266.0, 549747808965.0, 549397688559.0, 549249169861.0, 559541482912.0, 538456798260.0], \"xaxis\": \"x3\", \"y\": [1295192325.0, 718420076.0, 746232719.0, 737704410.0, 734684304.0, 731380547.0, 730713308.0, 796411544.0, 712994198.0], \"yaxis\": \"y3\"}, {\"legendgroup\": \"orig\", \"marker\": {\"color\": \"#636EFA\", \"size\": 5}, \"mode\": \"markers\", \"name\": \"orig\", \"showlegend\": false, \"text\": [0.0, 1.0, 2.0, 3.0, 4.0, 5.0, 6.0, 7.0, 8.0], \"type\": \"scatter\", \"x\": [569514885.0, 368471374.0, 370270307.0, 370568308.0, 368189665.0, 366121605.0, 364485863.0, 402418163.0, 359349112.0], \"xaxis\": \"x4\", \"y\": [1305519327.0, 724504820.0, 732510307.0, 744616022.0, 739377315.0, 732440740.0, 727027526.0, 803597945.0, 720772347.0], \"yaxis\": \"y4\"}, {\"legendgroup\": \"nc_static\", \"marker\": {\"color\": \"#EF553B\", \"size\": 5}, \"mode\": \"markers\", \"name\": \"nc_static\", \"showlegend\": false, \"text\": [0.0, 1.0, 2.0, 3.0, 4.0, 5.0, 6.0, 7.0, 8.0], \"type\": \"scatter\", \"x\": [475838255.0, 422100503.0, 424749825.0, 425053736.0, 420929498.0, 420656802.0, 420325958.0, 428369998.0, 413126392.0], \"xaxis\": \"x4\", \"y\": [917732158.0, 724755659.0, 740014053.0, 738289708.0, 735426160.0, 731454468.0, 733063173.0, 744697855.0, 714561899.0], \"yaxis\": \"y4\"}, {\"legendgroup\": \"nocall\", \"marker\": {\"color\": \"#00CC96\", \"size\": 5}, \"mode\": \"markers\", \"name\": \"nocall\", \"showlegend\": false, \"text\": [0.0, 1.0, 2.0, 3.0, 4.0, 5.0, 6.0, 7.0, 8.0], \"type\": \"scatter\", \"x\": [569189045.0, 368349834.0, 370596089.0, 371219749.0, 368536552.0, 366677229.0, 364706959.0, 402517631.0, 359411055.0], \"xaxis\": \"x4\", \"y\": [1295192325.0, 718420076.0, 746232719.0, 737704410.0, 734684304.0, 731380547.0, 730713308.0, 796411544.0, 712994198.0], \"yaxis\": \"y4\"}, {\"legendgroup\": \"orig\", \"marker\": {\"color\": \"#636EFA\", \"size\": 5}, \"mode\": \"markers\", \"name\": \"orig\", \"showlegend\": false, \"text\": [0.0, 1.0, 2.0, 3.0, 4.0, 5.0, 6.0, 7.0, 8.0], \"type\": \"scatter\", \"x\": [3324036598.0, 3064511263.0, 3080256744.0, 2887917569.0, 2954764631.0, 2944386474.0, 3004702761.0, 2842307503.0, 3038349974.0], \"xaxis\": \"x5\", \"y\": [3324036598.0, 3064511263.0, 3080256744.0, 2887917569.0, 2954764631.0, 2944386474.0, 3004702761.0, 2842307503.0, 3038349974.0], \"yaxis\": \"y5\"}, {\"legendgroup\": \"nc_static\", \"marker\": {\"color\": \"#EF553B\", \"size\": 5}, \"mode\": \"markers\", \"name\": \"nc_static\", \"showlegend\": false, \"text\": [0.0, 1.0, 2.0, 3.0, 4.0, 5.0, 6.0, 7.0, 8.0], \"type\": \"scatter\", \"x\": [3330196865.0, 3071395744.0, 3072936259.0, 2897940994.0, 2966243224.0, 2955199887.0, 3001924362.0, 2832451264.0, 3039732004.0], \"xaxis\": \"x5\", \"y\": [3330196865.0, 3071395744.0, 3072936259.0, 2897940994.0, 2966243224.0, 2955199887.0, 3001924362.0, 2832451264.0, 3039732004.0], \"yaxis\": \"y5\"}, {\"legendgroup\": \"nocall\", \"marker\": {\"color\": \"#00CC96\", \"size\": 5}, \"mode\": \"markers\", \"name\": \"nocall\", \"showlegend\": false, \"text\": [0.0, 1.0, 2.0, 3.0, 4.0, 5.0, 6.0, 7.0, 8.0], \"type\": \"scatter\", \"x\": [3345280451.0, 3070291363.0, 3080943643.0, 2898054916.0, 2954198699.0, 2954244770.0, 3014663391.0, 2843924355.0, 3035179963.0], \"xaxis\": \"x5\", \"y\": [3345280451.0, 3070291363.0, 3080943643.0, 2898054916.0, 2954198699.0, 2954244770.0, 3014663391.0, 2843924355.0, 3035179963.0], \"yaxis\": \"y5\"}, {\"legendgroup\": \"orig\", \"marker\": {\"color\": \"#636EFA\", \"size\": 5}, \"mode\": \"markers\", \"name\": \"orig\", \"showlegend\": false, \"text\": [0.0, 1.0, 2.0, 3.0, 4.0, 5.0, 6.0, 7.0, 8.0], \"type\": \"scatter\", \"x\": [3914218070.0, 4886946526.0, 4422487950.0, 4132890824.0, 3934074205.0, 3758247727.0, 3889043482.0, 3462966886.0, 3682720481.0], \"xaxis\": \"x6\", \"y\": [3324036598.0, 3064511263.0, 3080256744.0, 2887917569.0, 2954764631.0, 2944386474.0, 3004702761.0, 2842307503.0, 3038349974.0], \"yaxis\": \"y6\"}, {\"legendgroup\": \"nc_static\", \"marker\": {\"color\": \"#EF553B\", \"size\": 5}, \"mode\": \"markers\", \"name\": \"nc_static\", \"showlegend\": false, \"text\": [0.0, 1.0, 2.0, 3.0, 4.0, 5.0, 6.0, 7.0, 8.0], \"type\": \"scatter\", \"x\": [3863913595.0, 4808344742.0, 4377549856.0, 4247541180.0, 3887297359.0, 3754867761.0, 3791006818.0, 3494885333.0, 3601030947.0], \"xaxis\": \"x6\", \"y\": [3330196865.0, 3071395744.0, 3072936259.0, 2897940994.0, 2966243224.0, 2955199887.0, 3001924362.0, 2832451264.0, 3039732004.0], \"yaxis\": \"y6\"}, {\"legendgroup\": \"nocall\", \"marker\": {\"color\": \"#00CC96\", \"size\": 5}, \"mode\": \"markers\", \"name\": \"nocall\", \"showlegend\": false, \"text\": [0.0, 1.0, 2.0, 3.0, 4.0, 5.0, 6.0, 7.0, 8.0], \"type\": \"scatter\", \"x\": [3874085933.0, 4804004651.0, 4375237933.0, 4186168809.0, 3886889598.0, 3838217845.0, 3849346385.0, 3537956603.0, 3545716779.0], \"xaxis\": \"x6\", \"y\": [3345280451.0, 3070291363.0, 3080943643.0, 2898054916.0, 2954198699.0, 2954244770.0, 3014663391.0, 2843924355.0, 3035179963.0], \"yaxis\": \"y6\"}, {\"legendgroup\": \"orig\", \"marker\": {\"color\": \"#636EFA\", \"size\": 5}, \"mode\": \"markers\", \"name\": \"orig\", \"showlegend\": false, \"text\": [0.0, 1.0, 2.0, 3.0, 4.0, 5.0, 6.0, 7.0, 8.0], \"type\": \"scatter\", \"x\": [112737455171.0, 108636606574.0, 104354201838.0, 95556294760.0, 85515037181.0, 87047679990.0, 88329769314.0, 77656161749.0, 79364648187.0], \"xaxis\": \"x7\", \"y\": [3324036598.0, 3064511263.0, 3080256744.0, 2887917569.0, 2954764631.0, 2944386474.0, 3004702761.0, 2842307503.0, 3038349974.0], \"yaxis\": \"y7\"}, {\"legendgroup\": \"nc_static\", \"marker\": {\"color\": \"#EF553B\", \"size\": 5}, \"mode\": \"markers\", \"name\": \"nc_static\", \"showlegend\": false, \"text\": [0.0, 1.0, 2.0, 3.0, 4.0, 5.0, 6.0, 7.0, 8.0], \"type\": \"scatter\", \"x\": [112737222440.0, 108636259728.0, 104354739721.0, 95556210669.0, 85515359150.0, 87047137335.0, 88329785013.0, 77656237334.0, 79361951533.0], \"xaxis\": \"x7\", \"y\": [3330196865.0, 3071395744.0, 3072936259.0, 2897940994.0, 2966243224.0, 2955199887.0, 3001924362.0, 2832451264.0, 3039732004.0], \"yaxis\": \"y7\"}, {\"legendgroup\": \"nocall\", \"marker\": {\"color\": \"#00CC96\", \"size\": 5}, \"mode\": \"markers\", \"name\": \"nocall\", \"showlegend\": false, \"text\": [0.0, 1.0, 2.0, 3.0, 4.0, 5.0, 6.0, 7.0, 8.0], \"type\": \"scatter\", \"x\": [112738292413.0, 108636455041.0, 104354532668.0, 95556298072.0, 85515231484.0, 87047385264.0, 88329779142.0, 77656035564.0, 79364494596.0], \"xaxis\": \"x7\", \"y\": [3345280451.0, 3070291363.0, 3080943643.0, 2898054916.0, 2954198699.0, 2954244770.0, 3014663391.0, 2843924355.0, 3035179963.0], \"yaxis\": \"y7\"}, {\"legendgroup\": \"orig\", \"marker\": {\"color\": \"#636EFA\", \"size\": 5}, \"mode\": \"markers\", \"name\": \"orig\", \"showlegend\": false, \"text\": [0.0, 1.0, 2.0, 3.0, 4.0, 5.0, 6.0, 7.0, 8.0], \"type\": \"scatter\", \"x\": [151624954.0, 133182081.0, 123367164.0, 116329632.0, 110369487.0, 110233831.0, 111055473.0, 97456587.0, 104501261.0], \"xaxis\": \"x8\", \"y\": [3324036598.0, 3064511263.0, 3080256744.0, 2887917569.0, 2954764631.0, 2944386474.0, 3004702761.0, 2842307503.0, 3038349974.0], \"yaxis\": \"y8\"}, {\"legendgroup\": \"nc_static\", \"marker\": {\"color\": \"#EF553B\", \"size\": 5}, \"mode\": \"markers\", \"name\": \"nc_static\", \"showlegend\": false, \"text\": [0.0, 1.0, 2.0, 3.0, 4.0, 5.0, 6.0, 7.0, 8.0], \"type\": \"scatter\", \"x\": [146218187.0, 131820528.0, 122777140.0, 115267051.0, 108801165.0, 108861166.0, 110191089.0, 98272952.0, 102564514.0], \"xaxis\": \"x8\", \"y\": [3330196865.0, 3071395744.0, 3072936259.0, 2897940994.0, 2966243224.0, 2955199887.0, 3001924362.0, 2832451264.0, 3039732004.0], \"yaxis\": \"y8\"}, {\"legendgroup\": \"nocall\", \"marker\": {\"color\": \"#00CC96\", \"size\": 5}, \"mode\": \"markers\", \"name\": \"nocall\", \"showlegend\": false, \"text\": [0.0, 1.0, 2.0, 3.0, 4.0, 5.0, 6.0, 7.0, 8.0], \"type\": \"scatter\", \"x\": [151040414.0, 132272930.0, 123150099.0, 116116013.0, 109845304.0, 109667546.0, 111088706.0, 97443926.0, 104018084.0], \"xaxis\": \"x8\", \"y\": [3345280451.0, 3070291363.0, 3080943643.0, 2898054916.0, 2954198699.0, 2954244770.0, 3014663391.0, 2843924355.0, 3035179963.0], \"yaxis\": \"y8\"}, {\"legendgroup\": \"orig\", \"marker\": {\"color\": \"#636EFA\", \"size\": 5}, \"mode\": \"markers\", \"name\": \"orig\", \"showlegend\": false, \"text\": [0.0, 1.0, 2.0, 3.0, 4.0, 5.0, 6.0, 7.0, 8.0], \"type\": \"scatter\", \"x\": [116395064.0, 120735835.0, 129874019.0, 121057916.0, 125004458.0, 119512010.0, 140961706.0, 125445205.0, 113958707.0], \"xaxis\": \"x9\", \"y\": [116395064.0, 120735835.0, 129874019.0, 121057916.0, 125004458.0, 119512010.0, 140961706.0, 125445205.0, 113958707.0], \"yaxis\": \"y9\"}, {\"legendgroup\": \"nc_static\", \"marker\": {\"color\": \"#EF553B\", \"size\": 5}, \"mode\": \"markers\", \"name\": \"nc_static\", \"showlegend\": false, \"text\": [0.0, 1.0, 2.0, 3.0, 4.0, 5.0, 6.0, 7.0, 8.0], \"type\": \"scatter\", \"x\": [96799140.0, 104560302.0, 106929049.0, 107602031.0, 106385099.0, 106447073.0, 106598784.0, 108568121.0, 104553482.0], \"xaxis\": \"x9\", \"y\": [96799140.0, 104560302.0, 106929049.0, 107602031.0, 106385099.0, 106447073.0, 106598784.0, 108568121.0, 104553482.0], \"yaxis\": \"y9\"}, {\"legendgroup\": \"nocall\", \"marker\": {\"color\": \"#00CC96\", \"size\": 5}, \"mode\": \"markers\", \"name\": \"nocall\", \"showlegend\": false, \"text\": [0.0, 1.0, 2.0, 3.0, 4.0, 5.0, 6.0, 7.0, 8.0], \"type\": \"scatter\", \"x\": [168199622.0, 132366963.0, 119419745.0, 161320890.0, 136201535.0, 159051366.0, 122529919.0, 120001433.0, 119957298.0], \"xaxis\": \"x9\", \"y\": [168199622.0, 132366963.0, 119419745.0, 161320890.0, 136201535.0, 159051366.0, 122529919.0, 120001433.0, 119957298.0], \"yaxis\": \"y9\"}, {\"legendgroup\": \"orig\", \"marker\": {\"color\": \"#636EFA\", \"size\": 5}, \"mode\": \"markers\", \"name\": \"orig\", \"showlegend\": false, \"text\": [0.0, 1.0, 2.0, 3.0, 4.0, 5.0, 6.0, 7.0, 8.0], \"type\": \"scatter\", \"x\": [579401498.0, 92988898.0, 87346870.0, 94173881.0, 87517136.0, 89264471.0, 90005977.0, 92345399.0, 83097416.0], \"xaxis\": \"x10\", \"y\": [116395064.0, 120735835.0, 129874019.0, 121057916.0, 125004458.0, 119512010.0, 140961706.0, 125445205.0, 113958707.0], \"yaxis\": \"y10\"}, {\"legendgroup\": \"nc_static\", \"marker\": {\"color\": \"#EF553B\", \"size\": 5}, \"mode\": \"markers\", \"name\": \"nc_static\", \"showlegend\": false, \"text\": [0.0, 1.0, 2.0, 3.0, 4.0, 5.0, 6.0, 7.0, 8.0], \"type\": \"scatter\", \"x\": [564284679.0, 80836511.0, 81735814.0, 82489590.0, 82458047.0, 79842226.0, 78393693.0, 91186245.0, 81904136.0], \"xaxis\": \"x10\", \"y\": [96799140.0, 104560302.0, 106929049.0, 107602031.0, 106385099.0, 106447073.0, 106598784.0, 108568121.0, 104553482.0], \"yaxis\": \"y10\"}, {\"legendgroup\": \"nocall\", \"marker\": {\"color\": \"#00CC96\", \"size\": 5}, \"mode\": \"markers\", \"name\": \"nocall\", \"showlegend\": false, \"text\": [0.0, 1.0, 2.0, 3.0, 4.0, 5.0, 6.0, 7.0, 8.0], \"type\": \"scatter\", \"x\": [588409431.0, 102342470.0, 91900020.0, 92533977.0, 91027910.0, 90331342.0, 81435629.0, 83424384.0, 79836549.0], \"xaxis\": \"x10\", \"y\": [168199622.0, 132366963.0, 119419745.0, 161320890.0, 136201535.0, 159051366.0, 122529919.0, 120001433.0, 119957298.0], \"yaxis\": \"y10\"}, {\"legendgroup\": \"orig\", \"marker\": {\"color\": \"#636EFA\", \"size\": 5}, \"mode\": \"markers\", \"name\": \"orig\", \"showlegend\": false, \"text\": [0.0, 1.0, 2.0, 3.0, 4.0, 5.0, 6.0, 7.0, 8.0], \"type\": \"scatter\", \"x\": [111697529099.0, 115064259135.0, 117113281013.0, 117236910775.0, 116145635454.0, 116077333797.0, 116097795284.0, 118265636274.0, 113808863107.0], \"xaxis\": \"x11\", \"y\": [116395064.0, 120735835.0, 129874019.0, 121057916.0, 125004458.0, 119512010.0, 140961706.0, 125445205.0, 113958707.0], \"yaxis\": \"y11\"}, {\"legendgroup\": \"nc_static\", \"marker\": {\"color\": \"#EF553B\", \"size\": 5}, \"mode\": \"markers\", \"name\": \"nc_static\", \"showlegend\": false, \"text\": [0.0, 1.0, 2.0, 3.0, 4.0, 5.0, 6.0, 7.0, 8.0], \"type\": \"scatter\", \"x\": [111700111628.0, 115061382683.0, 117112461072.0, 117234045250.0, 116144056821.0, 116074273263.0, 116095974122.0, 118266221499.0, 113807189487.0], \"xaxis\": \"x11\", \"y\": [96799140.0, 104560302.0, 106929049.0, 107602031.0, 106385099.0, 106447073.0, 106598784.0, 108568121.0, 104553482.0], \"yaxis\": \"y11\"}, {\"legendgroup\": \"nocall\", \"marker\": {\"color\": \"#00CC96\", \"size\": 5}, \"mode\": \"markers\", \"name\": \"nocall\", \"showlegend\": false, \"text\": [0.0, 1.0, 2.0, 3.0, 4.0, 5.0, 6.0, 7.0, 8.0], \"type\": \"scatter\", \"x\": [111698256697.0, 115064334367.0, 117112601382.0, 117237067438.0, 116144276026.0, 116077334199.0, 116096364325.0, 118263977830.0, 113807479126.0], \"xaxis\": \"x11\", \"y\": [168199622.0, 132366963.0, 119419745.0, 161320890.0, 136201535.0, 159051366.0, 122529919.0, 120001433.0, 119957298.0], \"yaxis\": \"y11\"}, {\"legendgroup\": \"orig\", \"marker\": {\"color\": \"#636EFA\", \"size\": 5}, \"mode\": \"markers\", \"name\": \"orig\", \"showlegend\": false, \"text\": [0.0, 1.0, 2.0, 3.0, 4.0, 5.0, 6.0, 7.0, 8.0], \"type\": \"scatter\", \"x\": [101577677.0, 92161377.0, 93634548.0, 93645016.0, 92833830.0, 92552299.0, 92817854.0, 94290882.0, 90980146.0], \"xaxis\": \"x12\", \"y\": [116395064.0, 120735835.0, 129874019.0, 121057916.0, 125004458.0, 119512010.0, 140961706.0, 125445205.0, 113958707.0], \"yaxis\": \"y12\"}, {\"legendgroup\": \"nc_static\", \"marker\": {\"color\": \"#EF553B\", \"size\": 5}, \"mode\": \"markers\", \"name\": \"nc_static\", \"showlegend\": false, \"text\": [0.0, 1.0, 2.0, 3.0, 4.0, 5.0, 6.0, 7.0, 8.0], \"type\": \"scatter\", \"x\": [101550389.0, 92602646.0, 93941261.0, 94064658.0, 93143546.0, 93085271.0, 93104788.0, 94827356.0, 91376781.0], \"xaxis\": \"x12\", \"y\": [96799140.0, 104560302.0, 106929049.0, 107602031.0, 106385099.0, 106447073.0, 106598784.0, 108568121.0, 104553482.0], \"yaxis\": \"y12\"}, {\"legendgroup\": \"nocall\", \"marker\": {\"color\": \"#00CC96\", \"size\": 5}, \"mode\": \"markers\", \"name\": \"nocall\", \"showlegend\": false, \"text\": [0.0, 1.0, 2.0, 3.0, 4.0, 5.0, 6.0, 7.0, 8.0], \"type\": \"scatter\", \"x\": [101820014.0, 92544815.0, 93703017.0, 94015292.0, 93135490.0, 92959871.0, 92751367.0, 94212104.0, 90850499.0], \"xaxis\": \"x12\", \"y\": [168199622.0, 132366963.0, 119419745.0, 161320890.0, 136201535.0, 159051366.0, 122529919.0, 120001433.0, 119957298.0], \"yaxis\": \"y12\"}, {\"legendgroup\": \"orig\", \"marker\": {\"color\": \"#636EFA\", \"size\": 5}, \"mode\": \"markers\", \"name\": \"orig\", \"showlegend\": false, \"text\": [0.0, 1.0, 2.0, 3.0, 4.0, 5.0, 6.0, 7.0, 8.0], \"type\": \"scatter\", \"x\": [19018974.0, 18870036.0, 19460813.0, 19468217.0, 19283757.0, 19386572.0, 19271726.0, 19782913.0, 18959330.0], \"xaxis\": \"x13\", \"y\": [19018974.0, 18870036.0, 19460813.0, 19468217.0, 19283757.0, 19386572.0, 19271726.0, 19782913.0, 18959330.0], \"yaxis\": \"y13\"}, {\"legendgroup\": \"nc_static\", \"marker\": {\"color\": \"#EF553B\", \"size\": 5}, \"mode\": \"markers\", \"name\": \"nc_static\", \"showlegend\": false, \"text\": [0.0, 1.0, 2.0, 3.0, 4.0, 5.0, 6.0, 7.0, 8.0], \"type\": \"scatter\", \"x\": [20170035.0, 19132408.0, 19601812.0, 19753948.0, 19635717.0, 19723048.0, 19695471.0, 20010326.0, 19386632.0], \"xaxis\": \"x13\", \"y\": [20170035.0, 19132408.0, 19601812.0, 19753948.0, 19635717.0, 19723048.0, 19695471.0, 20010326.0, 19386632.0], \"yaxis\": \"y13\"}, {\"legendgroup\": \"nocall\", \"marker\": {\"color\": \"#00CC96\", \"size\": 5}, \"mode\": \"markers\", \"name\": \"nocall\", \"showlegend\": false, \"text\": [0.0, 1.0, 2.0, 3.0, 4.0, 5.0, 6.0, 7.0, 8.0], \"type\": \"scatter\", \"x\": [19342575.0, 18767486.0, 19020649.0, 19481115.0, 19231569.0, 19313686.0, 19391165.0, 19757524.0, 18969855.0], \"xaxis\": \"x13\", \"y\": [19342575.0, 18767486.0, 19020649.0, 19481115.0, 19231569.0, 19313686.0, 19391165.0, 19757524.0, 18969855.0], \"yaxis\": \"y13\"}, {\"legendgroup\": \"orig\", \"marker\": {\"color\": \"#636EFA\", \"size\": 5}, \"mode\": \"markers\", \"name\": \"orig\", \"showlegend\": false, \"text\": [0.0, 1.0, 2.0, 3.0, 4.0, 5.0, 6.0, 7.0, 8.0], \"type\": \"scatter\", \"x\": [783050404.0, 866071871.0, 874933732.0, 877481229.0, 867607256.0, 869349829.0, 866369038.0, 883450187.0, 845649103.0], \"xaxis\": \"x14\", \"y\": [19018974.0, 18870036.0, 19460813.0, 19468217.0, 19283757.0, 19386572.0, 19271726.0, 19782913.0, 18959330.0], \"yaxis\": \"y14\"}, {\"legendgroup\": \"nc_static\", \"marker\": {\"color\": \"#EF553B\", \"size\": 5}, \"mode\": \"markers\", \"name\": \"nc_static\", \"showlegend\": false, \"text\": [0.0, 1.0, 2.0, 3.0, 4.0, 5.0, 6.0, 7.0, 8.0], \"type\": \"scatter\", \"x\": [779979292.0, 858593173.0, 868384077.0, 871738332.0, 862466816.0, 864447417.0, 864020477.0, 888532552.0, 847542156.0], \"xaxis\": \"x14\", \"y\": [20170035.0, 19132408.0, 19601812.0, 19753948.0, 19635717.0, 19723048.0, 19695471.0, 20010326.0, 19386632.0], \"yaxis\": \"y14\"}, {\"legendgroup\": \"nocall\", \"marker\": {\"color\": \"#00CC96\", \"size\": 5}, \"mode\": \"markers\", \"name\": \"nocall\", \"showlegend\": false, \"text\": [0.0, 1.0, 2.0, 3.0, 4.0, 5.0, 6.0, 7.0, 8.0], \"type\": \"scatter\", \"x\": [782125069.0, 861470826.0, 869055564.0, 872916646.0, 864716964.0, 864393979.0, 866676403.0, 876753696.0, 847033361.0], \"xaxis\": \"x14\", \"y\": [19342575.0, 18767486.0, 19020649.0, 19481115.0, 19231569.0, 19313686.0, 19391165.0, 19757524.0, 18969855.0], \"yaxis\": \"y14\"}, {\"legendgroup\": \"orig\", \"marker\": {\"color\": \"#636EFA\", \"size\": 5}, \"mode\": \"markers\", \"name\": \"orig\", \"showlegend\": false, \"text\": [0.0, 1.0, 2.0, 3.0, 4.0, 5.0, 6.0, 7.0, 8.0], \"type\": \"scatter\", \"x\": [21543762464.0, 22192928682.0, 22587909230.0, 22613545612.0, 22403070319.0, 22388792170.0, 22399396060.0, 22816627075.0, 21953555300.0], \"xaxis\": \"x15\", \"y\": [19018974.0, 18870036.0, 19460813.0, 19468217.0, 19283757.0, 19386572.0, 19271726.0, 19782913.0, 18959330.0], \"yaxis\": \"y15\"}, {\"legendgroup\": \"nc_static\", \"marker\": {\"color\": \"#EF553B\", \"size\": 5}, \"mode\": \"markers\", \"name\": \"nc_static\", \"showlegend\": false, \"text\": [0.0, 1.0, 2.0, 3.0, 4.0, 5.0, 6.0, 7.0, 8.0], \"type\": \"scatter\", \"x\": [21545661090.0, 22194251603.0, 22589666615.0, 22615124749.0, 22404912326.0, 22390617659.0, 22401325448.0, 22818726678.0, 21955374122.0], \"xaxis\": \"x15\", \"y\": [20170035.0, 19132408.0, 19601812.0, 19753948.0, 19635717.0, 19723048.0, 19695471.0, 20010326.0, 19386632.0], \"yaxis\": \"y15\"}, {\"legendgroup\": \"nocall\", \"marker\": {\"color\": \"#00CC96\", \"size\": 5}, \"mode\": \"markers\", \"name\": \"nocall\", \"showlegend\": false, \"text\": [0.0, 1.0, 2.0, 3.0, 4.0, 5.0, 6.0, 7.0, 8.0], \"type\": \"scatter\", \"x\": [21543872924.0, 22193147170.0, 22587656936.0, 22613884752.0, 22403229363.0, 22388965979.0, 22399414782.0, 22815997523.0, 21953411237.0], \"xaxis\": \"x15\", \"y\": [19342575.0, 18767486.0, 19020649.0, 19481115.0, 19231569.0, 19313686.0, 19391165.0, 19757524.0, 18969855.0], \"yaxis\": \"y15\"}, {\"legendgroup\": \"orig\", \"marker\": {\"color\": \"#636EFA\", \"size\": 5}, \"mode\": \"markers\", \"name\": \"orig\", \"showlegend\": false, \"text\": [0.0, 1.0, 2.0, 3.0, 4.0, 5.0, 6.0, 7.0, 8.0], \"type\": \"scatter\", \"x\": [17535034.0, 15904628.0, 15955550.0, 16015869.0, 15820829.0, 15799968.0, 15773165.0, 16139490.0, 15501047.0], \"xaxis\": \"x16\", \"y\": [19018974.0, 18870036.0, 19460813.0, 19468217.0, 19283757.0, 19386572.0, 19271726.0, 19782913.0, 18959330.0], \"yaxis\": \"y16\"}, {\"legendgroup\": \"nc_static\", \"marker\": {\"color\": \"#EF553B\", \"size\": 5}, \"mode\": \"markers\", \"name\": \"nc_static\", \"showlegend\": false, \"text\": [0.0, 1.0, 2.0, 3.0, 4.0, 5.0, 6.0, 7.0, 8.0], \"type\": \"scatter\", \"x\": [17500550.0, 15819178.0, 16038534.0, 16029341.0, 15837731.0, 15832527.0, 15788968.0, 16097351.0, 15470179.0], \"xaxis\": \"x16\", \"y\": [20170035.0, 19132408.0, 19601812.0, 19753948.0, 19635717.0, 19723048.0, 19695471.0, 20010326.0, 19386632.0], \"yaxis\": \"y16\"}, {\"legendgroup\": \"nocall\", \"marker\": {\"color\": \"#00CC96\", \"size\": 5}, \"mode\": \"markers\", \"name\": \"nocall\", \"showlegend\": false, \"text\": [0.0, 1.0, 2.0, 3.0, 4.0, 5.0, 6.0, 7.0, 8.0], \"type\": \"scatter\", \"x\": [17649014.0, 15862403.0, 15942062.0, 15968799.0, 15799005.0, 15842920.0, 15764608.0, 16105198.0, 15529561.0], \"xaxis\": \"x16\", \"y\": [19342575.0, 18767486.0, 19020649.0, 19481115.0, 19231569.0, 19313686.0, 19391165.0, 19757524.0, 18969855.0], \"yaxis\": \"y16\"}, {\"legendgroup\": \"orig\", \"marker\": {\"color\": \"#636EFA\", \"size\": 5}, \"mode\": \"markers\", \"name\": \"orig\", \"showlegend\": false, \"text\": [0.0, 1.0, 2.0, 3.0, 4.0, 5.0, 6.0, 7.0, 8.0], \"type\": \"scatter\", \"x\": [434965153.0, 358791746.0, 359294820.0, 318163207.0, 345469479.0, 343408807.0, 362614258.0, 321788453.0, 378192884.0], \"xaxis\": \"x17\", \"y\": [434965153.0, 358791746.0, 359294820.0, 318163207.0, 345469479.0, 343408807.0, 362614258.0, 321788453.0, 378192884.0], \"yaxis\": \"y17\"}, {\"legendgroup\": \"nc_static\", \"marker\": {\"color\": \"#EF553B\", \"size\": 5}, \"mode\": \"markers\", \"name\": \"nc_static\", \"showlegend\": false, \"text\": [0.0, 1.0, 2.0, 3.0, 4.0, 5.0, 6.0, 7.0, 8.0], \"type\": \"scatter\", \"x\": [434007503.0, 359465106.0, 360914243.0, 316135960.0, 349450862.0, 347991773.0, 364318697.0, 324320647.0, 379202740.0], \"xaxis\": \"x17\", \"y\": [434007503.0, 359465106.0, 360914243.0, 316135960.0, 349450862.0, 347991773.0, 364318697.0, 324320647.0, 379202740.0], \"yaxis\": \"y17\"}, {\"legendgroup\": \"nocall\", \"marker\": {\"color\": \"#00CC96\", \"size\": 5}, \"mode\": \"markers\", \"name\": \"nocall\", \"showlegend\": false, \"text\": [0.0, 1.0, 2.0, 3.0, 4.0, 5.0, 6.0, 7.0, 8.0], \"type\": \"scatter\", \"x\": [435365434.0, 359300315.0, 359601088.0, 317315823.0, 346286101.0, 341503900.0, 363734521.0, 321296632.0, 379918779.0], \"xaxis\": \"x17\", \"y\": [435365434.0, 359300315.0, 359601088.0, 317315823.0, 346286101.0, 341503900.0, 363734521.0, 321296632.0, 379918779.0], \"yaxis\": \"y17\"}, {\"legendgroup\": \"orig\", \"marker\": {\"color\": \"#636EFA\", \"size\": 5}, \"mode\": \"markers\", \"name\": \"orig\", \"showlegend\": false, \"text\": [0.0, 1.0, 2.0, 3.0, 4.0, 5.0, 6.0, 7.0, 8.0], \"type\": \"scatter\", \"x\": [349378152.0, 523613893.0, 541089081.0, 454511243.0, 466836604.0, 468375395.0, 480905215.0, 432986529.0, 535062501.0], \"xaxis\": \"x18\", \"y\": [434965153.0, 358791746.0, 359294820.0, 318163207.0, 345469479.0, 343408807.0, 362614258.0, 321788453.0, 378192884.0], \"yaxis\": \"y18\"}, {\"legendgroup\": \"nc_static\", \"marker\": {\"color\": \"#EF553B\", \"size\": 5}, \"mode\": \"markers\", \"name\": \"nc_static\", \"showlegend\": false, \"text\": [0.0, 1.0, 2.0, 3.0, 4.0, 5.0, 6.0, 7.0, 8.0], \"type\": \"scatter\", \"x\": [363166008.0, 519541049.0, 500809410.0, 520312044.0, 416445447.0, 391772199.0, 477403021.0, 407153804.0, 527667591.0], \"xaxis\": \"x18\", \"y\": [434007503.0, 359465106.0, 360914243.0, 316135960.0, 349450862.0, 347991773.0, 364318697.0, 324320647.0, 379202740.0], \"yaxis\": \"y18\"}, {\"legendgroup\": \"nocall\", \"marker\": {\"color\": \"#00CC96\", \"size\": 5}, \"mode\": \"markers\", \"name\": \"nocall\", \"showlegend\": false, \"text\": [0.0, 1.0, 2.0, 3.0, 4.0, 5.0, 6.0, 7.0, 8.0], \"type\": \"scatter\", \"x\": [341240911.0, 506237492.0, 536217727.0, 473670476.0, 432101084.0, 508963027.0, 449731416.0, 447688743.0, 482799639.0], \"xaxis\": \"x18\", \"y\": [435365434.0, 359300315.0, 359601088.0, 317315823.0, 346286101.0, 341503900.0, 363734521.0, 321296632.0, 379918779.0], \"yaxis\": \"y18\"}, {\"legendgroup\": \"orig\", \"marker\": {\"color\": \"#636EFA\", \"size\": 5}, \"mode\": \"markers\", \"name\": \"orig\", \"showlegend\": false, \"text\": [0.0, 1.0, 2.0, 3.0, 4.0, 5.0, 6.0, 7.0, 8.0], \"type\": \"scatter\", \"x\": [11293831274.0, 9914427499.0, 10290084667.0, 9077206083.0, 9249987268.0, 9306719514.0, 10232875872.0, 9123093797.0, 10568618488.0], \"xaxis\": \"x19\", \"y\": [434965153.0, 358791746.0, 359294820.0, 318163207.0, 345469479.0, 343408807.0, 362614258.0, 321788453.0, 378192884.0], \"yaxis\": \"y19\"}, {\"legendgroup\": \"nc_static\", \"marker\": {\"color\": \"#EF553B\", \"size\": 5}, \"mode\": \"markers\", \"name\": \"nc_static\", \"showlegend\": false, \"text\": [0.0, 1.0, 2.0, 3.0, 4.0, 5.0, 6.0, 7.0, 8.0], \"type\": \"scatter\", \"x\": [11293833280.0, 9914313557.0, 10290008893.0, 9077093385.0, 9249867897.0, 9306457568.0, 10232746235.0, 9123015362.0, 10568500950.0], \"xaxis\": \"x19\", \"y\": [434007503.0, 359465106.0, 360914243.0, 316135960.0, 349450862.0, 347991773.0, 364318697.0, 324320647.0, 379202740.0], \"yaxis\": \"y19\"}, {\"legendgroup\": \"nocall\", \"marker\": {\"color\": \"#00CC96\", \"size\": 5}, \"mode\": \"markers\", \"name\": \"nocall\", \"showlegend\": false, \"text\": [0.0, 1.0, 2.0, 3.0, 4.0, 5.0, 6.0, 7.0, 8.0], \"type\": \"scatter\", \"x\": [11293837415.0, 9914442107.0, 10290088237.0, 9077209205.0, 9250004843.0, 9306644677.0, 10232880030.0, 9123103417.0, 10568608871.0], \"xaxis\": \"x19\", \"y\": [435365434.0, 359300315.0, 359601088.0, 317315823.0, 346286101.0, 341503900.0, 363734521.0, 321296632.0, 379918779.0], \"yaxis\": \"y19\"}, {\"legendgroup\": \"orig\", \"marker\": {\"color\": \"#636EFA\", \"size\": 5}, \"mode\": \"markers\", \"name\": \"orig\", \"showlegend\": false, \"text\": [0.0, 1.0, 2.0, 3.0, 4.0, 5.0, 6.0, 7.0, 8.0], \"type\": \"scatter\", \"x\": [16118879.0, 13535168.0, 13424716.0, 12493286.0, 12666387.0, 12754281.0, 12984528.0, 12134374.0, 13687019.0], \"xaxis\": \"x20\", \"y\": [434965153.0, 358791746.0, 359294820.0, 318163207.0, 345469479.0, 343408807.0, 362614258.0, 321788453.0, 378192884.0], \"yaxis\": \"y20\"}, {\"legendgroup\": \"nc_static\", \"marker\": {\"color\": \"#EF553B\", \"size\": 5}, \"mode\": \"markers\", \"name\": \"nc_static\", \"showlegend\": false, \"text\": [0.0, 1.0, 2.0, 3.0, 4.0, 5.0, 6.0, 7.0, 8.0], \"type\": \"scatter\", \"x\": [16152628.0, 13812042.0, 13585353.0, 12780150.0, 12681058.0, 12702121.0, 13114584.0, 11969876.0, 13764693.0], \"xaxis\": \"x20\", \"y\": [434007503.0, 359465106.0, 360914243.0, 316135960.0, 349450862.0, 347991773.0, 364318697.0, 324320647.0, 379202740.0], \"yaxis\": \"y20\"}, {\"legendgroup\": \"nocall\", \"marker\": {\"color\": \"#00CC96\", \"size\": 5}, \"mode\": \"markers\", \"name\": \"nocall\", \"showlegend\": false, \"text\": [0.0, 1.0, 2.0, 3.0, 4.0, 5.0, 6.0, 7.0, 8.0], \"type\": \"scatter\", \"x\": [16078211.0, 13450005.0, 13439074.0, 12507646.0, 12668715.0, 12732637.0, 12998424.0, 12127340.0, 13652613.0], \"xaxis\": \"x20\", \"y\": [435365434.0, 359300315.0, 359601088.0, 317315823.0, 346286101.0, 341503900.0, 363734521.0, 321296632.0, 379918779.0], \"yaxis\": \"y20\"}, {\"legendgroup\": \"orig\", \"marker\": {\"color\": \"#636EFA\", \"size\": 5}, \"mode\": \"markers\", \"name\": \"orig\", \"showlegend\": false, \"text\": [0.0, 1.0, 2.0, 3.0, 4.0, 5.0, 6.0, 7.0, 8.0], \"type\": \"scatter\", \"x\": [8988107.0, 9332531.0, 9381341.0, 9276404.0, 9209194.0, 9289919.0, 9417551.0, 9519001.0, 9295181.0], \"xaxis\": \"x21\", \"y\": [8988107.0, 9332531.0, 9381341.0, 9276404.0, 9209194.0, 9289919.0, 9417551.0, 9519001.0, 9295181.0], \"yaxis\": \"y21\"}, {\"legendgroup\": \"nc_static\", \"marker\": {\"color\": \"#EF553B\", \"size\": 5}, \"mode\": \"markers\", \"name\": \"nc_static\", \"showlegend\": false, \"text\": [0.0, 1.0, 2.0, 3.0, 4.0, 5.0, 6.0, 7.0, 8.0], \"type\": \"scatter\", \"x\": [8997918.0, 9233012.0, 9549690.0, 9191926.0, 9122782.0, 9306726.0, 9062737.0, 9338292.0, 9410813.0], \"xaxis\": \"x21\", \"y\": [8997918.0, 9233012.0, 9549690.0, 9191926.0, 9122782.0, 9306726.0, 9062737.0, 9338292.0, 9410813.0], \"yaxis\": \"y21\"}, {\"legendgroup\": \"nocall\", \"marker\": {\"color\": \"#00CC96\", \"size\": 5}, \"mode\": \"markers\", \"name\": \"nocall\", \"showlegend\": false, \"text\": [0.0, 1.0, 2.0, 3.0, 4.0, 5.0, 6.0, 7.0, 8.0], \"type\": \"scatter\", \"x\": [8873416.0, 9294166.0, 9261290.0, 9273389.0, 9351369.0, 9187517.0, 9195099.0, 9530735.0, 9214923.0], \"xaxis\": \"x21\", \"y\": [8873416.0, 9294166.0, 9261290.0, 9273389.0, 9351369.0, 9187517.0, 9195099.0, 9530735.0, 9214923.0], \"yaxis\": \"y21\"}, {\"legendgroup\": \"orig\", \"marker\": {\"color\": \"#636EFA\", \"size\": 5}, \"mode\": \"markers\", \"name\": \"orig\", \"showlegend\": false, \"text\": [0.0, 1.0, 2.0, 3.0, 4.0, 5.0, 6.0, 7.0, 8.0], \"type\": \"scatter\", \"x\": [7990580.0, 9612500.0, 8477476.0, 8911268.0, 8311347.0, 8828451.0, 8543947.0, 8750161.0, 9276606.0], \"xaxis\": \"x22\", \"y\": [8988107.0, 9332531.0, 9381341.0, 9276404.0, 9209194.0, 9289919.0, 9417551.0, 9519001.0, 9295181.0], \"yaxis\": \"y22\"}, {\"legendgroup\": \"nc_static\", \"marker\": {\"color\": \"#EF553B\", \"size\": 5}, \"mode\": \"markers\", \"name\": \"nc_static\", \"showlegend\": false, \"text\": [0.0, 1.0, 2.0, 3.0, 4.0, 5.0, 6.0, 7.0, 8.0], \"type\": \"scatter\", \"x\": [7845473.0, 9012334.0, 8276681.0, 8159771.0, 7410463.0, 7973288.0, 7860807.0, 8051527.0, 7879983.0], \"xaxis\": \"x22\", \"y\": [8997918.0, 9233012.0, 9549690.0, 9191926.0, 9122782.0, 9306726.0, 9062737.0, 9338292.0, 9410813.0], \"yaxis\": \"y22\"}, {\"legendgroup\": \"nocall\", \"marker\": {\"color\": \"#00CC96\", \"size\": 5}, \"mode\": \"markers\", \"name\": \"nocall\", \"showlegend\": false, \"text\": [0.0, 1.0, 2.0, 3.0, 4.0, 5.0, 6.0, 7.0, 8.0], \"type\": \"scatter\", \"x\": [8369666.0, 8780336.0, 8944088.0, 8785507.0, 8335240.0, 8657918.0, 8646522.0, 8078400.0, 8665452.0], \"xaxis\": \"x22\", \"y\": [8873416.0, 9294166.0, 9261290.0, 9273389.0, 9351369.0, 9187517.0, 9195099.0, 9530735.0, 9214923.0], \"yaxis\": \"y22\"}, {\"legendgroup\": \"orig\", \"marker\": {\"color\": \"#636EFA\", \"size\": 5}, \"mode\": \"markers\", \"name\": \"orig\", \"showlegend\": false, \"text\": [0.0, 1.0, 2.0, 3.0, 4.0, 5.0, 6.0, 7.0, 8.0], \"type\": \"scatter\", \"x\": [912378135.0, 940152275.0, 956186648.0, 957771996.0, 948304470.0, 948930930.0, 948629764.0, 966336564.0, 929956833.0], \"xaxis\": \"x23\", \"y\": [8988107.0, 9332531.0, 9381341.0, 9276404.0, 9209194.0, 9289919.0, 9417551.0, 9519001.0, 9295181.0], \"yaxis\": \"y23\"}, {\"legendgroup\": \"nc_static\", \"marker\": {\"color\": \"#EF553B\", \"size\": 5}, \"mode\": \"markers\", \"name\": \"nc_static\", \"showlegend\": false, \"text\": [0.0, 1.0, 2.0, 3.0, 4.0, 5.0, 6.0, 7.0, 8.0], \"type\": \"scatter\", \"x\": [912874439.0, 939537862.0, 956520208.0, 957956067.0, 949002574.0, 948675918.0, 949093974.0, 966099349.0, 929498443.0], \"xaxis\": \"x23\", \"y\": [8997918.0, 9233012.0, 9549690.0, 9191926.0, 9122782.0, 9306726.0, 9062737.0, 9338292.0, 9410813.0], \"yaxis\": \"y23\"}, {\"legendgroup\": \"nocall\", \"marker\": {\"color\": \"#00CC96\", \"size\": 5}, \"mode\": \"markers\", \"name\": \"nocall\", \"showlegend\": false, \"text\": [0.0, 1.0, 2.0, 3.0, 4.0, 5.0, 6.0, 7.0, 8.0], \"type\": \"scatter\", \"x\": [913073274.0, 939609873.0, 956926954.0, 957999613.0, 948362199.0, 948626602.0, 949125021.0, 965874235.0, 929825983.0], \"xaxis\": \"x23\", \"y\": [8873416.0, 9294166.0, 9261290.0, 9273389.0, 9351369.0, 9187517.0, 9195099.0, 9530735.0, 9214923.0], \"yaxis\": \"y23\"}, {\"legendgroup\": \"orig\", \"marker\": {\"color\": \"#636EFA\", \"size\": 5}, \"mode\": \"markers\", \"name\": \"orig\", \"showlegend\": false, \"text\": [0.0, 1.0, 2.0, 3.0, 4.0, 5.0, 6.0, 7.0, 8.0], \"type\": \"scatter\", \"x\": [1007050.0, 11602087.0, 14737038.0, 13843673.0, 13434435.0, 13170337.0, 16933975.0, 912578.0, 13493585.0], \"xaxis\": \"x24\", \"y\": [8988107.0, 9332531.0, 9381341.0, 9276404.0, 9209194.0, 9289919.0, 9417551.0, 9519001.0, 9295181.0], \"yaxis\": \"y24\"}, {\"legendgroup\": \"nc_static\", \"marker\": {\"color\": \"#EF553B\", \"size\": 5}, \"mode\": \"markers\", \"name\": \"nc_static\", \"showlegend\": false, \"text\": [0.0, 1.0, 2.0, 3.0, 4.0, 5.0, 6.0, 7.0, 8.0], \"type\": \"scatter\", \"x\": [1065909.0, 5641397.0, 9028469.0, 7336133.0, 6026189.0, 5478744.0, 10063922.0, 5869460.0, 7155553.0], \"xaxis\": \"x24\", \"y\": [8997918.0, 9233012.0, 9549690.0, 9191926.0, 9122782.0, 9306726.0, 9062737.0, 9338292.0, 9410813.0], \"yaxis\": \"y24\"}, {\"legendgroup\": \"nocall\", \"marker\": {\"color\": \"#00CC96\", \"size\": 5}, \"mode\": \"markers\", \"name\": \"nocall\", \"showlegend\": false, \"text\": [0.0, 1.0, 2.0, 3.0, 4.0, 5.0, 6.0, 7.0, 8.0], \"type\": \"scatter\", \"x\": [1021748.0, 11436077.0, 14614364.0, 13747109.0, 13194806.0, 12920384.0, 16637900.0, 911225.0, 13180778.0], \"xaxis\": \"x24\", \"y\": [8873416.0, 9294166.0, 9261290.0, 9273389.0, 9351369.0, 9187517.0, 9195099.0, 9530735.0, 9214923.0], \"yaxis\": \"y24\"}],\n",
       "                        {\"height\": 2200, \"template\": {\"data\": {\"bar\": [{\"error_x\": {\"color\": \"#2a3f5f\"}, \"error_y\": {\"color\": \"#2a3f5f\"}, \"marker\": {\"line\": {\"color\": \"#E5ECF6\", \"width\": 0.5}}, \"type\": \"bar\"}], \"barpolar\": [{\"marker\": {\"line\": {\"color\": \"#E5ECF6\", \"width\": 0.5}}, \"type\": \"barpolar\"}], \"carpet\": [{\"aaxis\": {\"endlinecolor\": \"#2a3f5f\", \"gridcolor\": \"white\", \"linecolor\": \"white\", \"minorgridcolor\": \"white\", \"startlinecolor\": \"#2a3f5f\"}, \"baxis\": {\"endlinecolor\": \"#2a3f5f\", \"gridcolor\": \"white\", \"linecolor\": \"white\", \"minorgridcolor\": \"white\", \"startlinecolor\": \"#2a3f5f\"}, \"type\": \"carpet\"}], \"choropleth\": [{\"colorbar\": {\"outlinewidth\": 0, \"ticks\": \"\"}, \"type\": \"choropleth\"}], \"contour\": [{\"colorbar\": {\"outlinewidth\": 0, \"ticks\": \"\"}, \"colorscale\": [[0.0, \"#0d0887\"], [0.1111111111111111, \"#46039f\"], [0.2222222222222222, \"#7201a8\"], [0.3333333333333333, \"#9c179e\"], [0.4444444444444444, \"#bd3786\"], [0.5555555555555556, \"#d8576b\"], [0.6666666666666666, \"#ed7953\"], [0.7777777777777778, \"#fb9f3a\"], [0.8888888888888888, \"#fdca26\"], [1.0, \"#f0f921\"]], \"type\": \"contour\"}], \"contourcarpet\": [{\"colorbar\": {\"outlinewidth\": 0, \"ticks\": \"\"}, \"type\": \"contourcarpet\"}], \"heatmap\": [{\"colorbar\": {\"outlinewidth\": 0, \"ticks\": \"\"}, \"colorscale\": [[0.0, \"#0d0887\"], [0.1111111111111111, \"#46039f\"], [0.2222222222222222, \"#7201a8\"], [0.3333333333333333, \"#9c179e\"], [0.4444444444444444, \"#bd3786\"], [0.5555555555555556, \"#d8576b\"], [0.6666666666666666, \"#ed7953\"], [0.7777777777777778, \"#fb9f3a\"], [0.8888888888888888, \"#fdca26\"], [1.0, \"#f0f921\"]], \"type\": \"heatmap\"}], \"heatmapgl\": [{\"colorbar\": {\"outlinewidth\": 0, \"ticks\": \"\"}, \"colorscale\": [[0.0, \"#0d0887\"], [0.1111111111111111, \"#46039f\"], [0.2222222222222222, \"#7201a8\"], [0.3333333333333333, \"#9c179e\"], [0.4444444444444444, \"#bd3786\"], [0.5555555555555556, \"#d8576b\"], [0.6666666666666666, \"#ed7953\"], [0.7777777777777778, \"#fb9f3a\"], [0.8888888888888888, \"#fdca26\"], [1.0, \"#f0f921\"]], \"type\": \"heatmapgl\"}], \"histogram\": [{\"marker\": {\"colorbar\": {\"outlinewidth\": 0, \"ticks\": \"\"}}, \"type\": \"histogram\"}], \"histogram2d\": [{\"colorbar\": {\"outlinewidth\": 0, \"ticks\": \"\"}, \"colorscale\": [[0.0, \"#0d0887\"], [0.1111111111111111, \"#46039f\"], [0.2222222222222222, \"#7201a8\"], [0.3333333333333333, \"#9c179e\"], [0.4444444444444444, \"#bd3786\"], [0.5555555555555556, \"#d8576b\"], [0.6666666666666666, \"#ed7953\"], [0.7777777777777778, \"#fb9f3a\"], [0.8888888888888888, \"#fdca26\"], [1.0, \"#f0f921\"]], \"type\": \"histogram2d\"}], \"histogram2dcontour\": [{\"colorbar\": {\"outlinewidth\": 0, \"ticks\": \"\"}, \"colorscale\": [[0.0, \"#0d0887\"], [0.1111111111111111, \"#46039f\"], [0.2222222222222222, \"#7201a8\"], [0.3333333333333333, \"#9c179e\"], [0.4444444444444444, \"#bd3786\"], [0.5555555555555556, \"#d8576b\"], [0.6666666666666666, \"#ed7953\"], [0.7777777777777778, \"#fb9f3a\"], [0.8888888888888888, \"#fdca26\"], [1.0, \"#f0f921\"]], \"type\": \"histogram2dcontour\"}], \"mesh3d\": [{\"colorbar\": {\"outlinewidth\": 0, \"ticks\": \"\"}, \"type\": \"mesh3d\"}], \"parcoords\": [{\"line\": {\"colorbar\": {\"outlinewidth\": 0, \"ticks\": \"\"}}, \"type\": \"parcoords\"}], \"pie\": [{\"automargin\": true, \"type\": \"pie\"}], \"scatter\": [{\"marker\": {\"colorbar\": {\"outlinewidth\": 0, \"ticks\": \"\"}}, \"type\": \"scatter\"}], \"scatter3d\": [{\"line\": {\"colorbar\": {\"outlinewidth\": 0, \"ticks\": \"\"}}, \"marker\": {\"colorbar\": {\"outlinewidth\": 0, \"ticks\": \"\"}}, \"type\": \"scatter3d\"}], \"scattercarpet\": [{\"marker\": {\"colorbar\": {\"outlinewidth\": 0, \"ticks\": \"\"}}, \"type\": \"scattercarpet\"}], \"scattergeo\": [{\"marker\": {\"colorbar\": {\"outlinewidth\": 0, \"ticks\": \"\"}}, \"type\": \"scattergeo\"}], \"scattergl\": [{\"marker\": {\"colorbar\": {\"outlinewidth\": 0, \"ticks\": \"\"}}, \"type\": \"scattergl\"}], \"scattermapbox\": [{\"marker\": {\"colorbar\": {\"outlinewidth\": 0, \"ticks\": \"\"}}, \"type\": \"scattermapbox\"}], \"scatterpolar\": [{\"marker\": {\"colorbar\": {\"outlinewidth\": 0, \"ticks\": \"\"}}, \"type\": \"scatterpolar\"}], \"scatterpolargl\": [{\"marker\": {\"colorbar\": {\"outlinewidth\": 0, \"ticks\": \"\"}}, \"type\": \"scatterpolargl\"}], \"scatterternary\": [{\"marker\": {\"colorbar\": {\"outlinewidth\": 0, \"ticks\": \"\"}}, \"type\": \"scatterternary\"}], \"surface\": [{\"colorbar\": {\"outlinewidth\": 0, \"ticks\": \"\"}, \"colorscale\": [[0.0, \"#0d0887\"], [0.1111111111111111, \"#46039f\"], [0.2222222222222222, \"#7201a8\"], [0.3333333333333333, \"#9c179e\"], [0.4444444444444444, \"#bd3786\"], [0.5555555555555556, \"#d8576b\"], [0.6666666666666666, \"#ed7953\"], [0.7777777777777778, \"#fb9f3a\"], [0.8888888888888888, \"#fdca26\"], [1.0, \"#f0f921\"]], \"type\": \"surface\"}], \"table\": [{\"cells\": {\"fill\": {\"color\": \"#EBF0F8\"}, \"line\": {\"color\": \"white\"}}, \"header\": {\"fill\": {\"color\": \"#C8D4E3\"}, \"line\": {\"color\": \"white\"}}, \"type\": \"table\"}]}, \"layout\": {\"annotationdefaults\": {\"arrowcolor\": \"#2a3f5f\", \"arrowhead\": 0, \"arrowwidth\": 1}, \"coloraxis\": {\"colorbar\": {\"outlinewidth\": 0, \"ticks\": \"\"}}, \"colorscale\": {\"diverging\": [[0, \"#8e0152\"], [0.1, \"#c51b7d\"], [0.2, \"#de77ae\"], [0.3, \"#f1b6da\"], [0.4, \"#fde0ef\"], [0.5, \"#f7f7f7\"], [0.6, \"#e6f5d0\"], [0.7, \"#b8e186\"], [0.8, \"#7fbc41\"], [0.9, \"#4d9221\"], [1, \"#276419\"]], \"sequential\": [[0.0, \"#0d0887\"], [0.1111111111111111, \"#46039f\"], [0.2222222222222222, \"#7201a8\"], [0.3333333333333333, \"#9c179e\"], [0.4444444444444444, \"#bd3786\"], [0.5555555555555556, \"#d8576b\"], [0.6666666666666666, \"#ed7953\"], [0.7777777777777778, \"#fb9f3a\"], [0.8888888888888888, \"#fdca26\"], [1.0, \"#f0f921\"]], \"sequentialminus\": [[0.0, \"#0d0887\"], [0.1111111111111111, \"#46039f\"], [0.2222222222222222, \"#7201a8\"], [0.3333333333333333, \"#9c179e\"], [0.4444444444444444, \"#bd3786\"], [0.5555555555555556, \"#d8576b\"], [0.6666666666666666, \"#ed7953\"], [0.7777777777777778, \"#fb9f3a\"], [0.8888888888888888, \"#fdca26\"], [1.0, \"#f0f921\"]]}, \"colorway\": [\"#636efa\", \"#EF553B\", \"#00cc96\", \"#ab63fa\", \"#FFA15A\", \"#19d3f3\", \"#FF6692\", \"#B6E880\", \"#FF97FF\", \"#FECB52\"], \"font\": {\"color\": \"#2a3f5f\"}, \"geo\": {\"bgcolor\": \"white\", \"lakecolor\": \"white\", \"landcolor\": \"#E5ECF6\", \"showlakes\": true, \"showland\": true, \"subunitcolor\": \"white\"}, \"hoverlabel\": {\"align\": \"left\"}, \"hovermode\": \"closest\", \"mapbox\": {\"style\": \"light\"}, \"paper_bgcolor\": \"white\", \"plot_bgcolor\": \"#E5ECF6\", \"polar\": {\"angularaxis\": {\"gridcolor\": \"white\", \"linecolor\": \"white\", \"ticks\": \"\"}, \"bgcolor\": \"#E5ECF6\", \"radialaxis\": {\"gridcolor\": \"white\", \"linecolor\": \"white\", \"ticks\": \"\"}}, \"scene\": {\"xaxis\": {\"backgroundcolor\": \"#E5ECF6\", \"gridcolor\": \"white\", \"gridwidth\": 2, \"linecolor\": \"white\", \"showbackground\": true, \"ticks\": \"\", \"zerolinecolor\": \"white\"}, \"yaxis\": {\"backgroundcolor\": \"#E5ECF6\", \"gridcolor\": \"white\", \"gridwidth\": 2, \"linecolor\": \"white\", \"showbackground\": true, \"ticks\": \"\", \"zerolinecolor\": \"white\"}, \"zaxis\": {\"backgroundcolor\": \"#E5ECF6\", \"gridcolor\": \"white\", \"gridwidth\": 2, \"linecolor\": \"white\", \"showbackground\": true, \"ticks\": \"\", \"zerolinecolor\": \"white\"}}, \"shapedefaults\": {\"line\": {\"color\": \"#2a3f5f\"}}, \"ternary\": {\"aaxis\": {\"gridcolor\": \"white\", \"linecolor\": \"white\", \"ticks\": \"\"}, \"baxis\": {\"gridcolor\": \"white\", \"linecolor\": \"white\", \"ticks\": \"\"}, \"bgcolor\": \"#E5ECF6\", \"caxis\": {\"gridcolor\": \"white\", \"linecolor\": \"white\", \"ticks\": \"\"}}, \"title\": {\"x\": 0.05}, \"xaxis\": {\"automargin\": true, \"gridcolor\": \"white\", \"linecolor\": \"white\", \"ticks\": \"\", \"title\": {\"standoff\": 15}, \"zerolinecolor\": \"white\", \"zerolinewidth\": 2}, \"yaxis\": {\"automargin\": true, \"gridcolor\": \"white\", \"linecolor\": \"white\", \"ticks\": \"\", \"title\": {\"standoff\": 15}, \"zerolinecolor\": \"white\", \"zerolinewidth\": 2}}}, \"title\": {\"text\": \"Metric X Metrix Scatter Plots --- Top 6 Timers sort by TIME in Original Run <br> MPI and TAU ommitted & \\\"***custom:\\\" Removed from timer strings\"}, \"width\": 1500, \"xaxis\": {\"anchor\": \"y\", \"domain\": [0.0, 0.22], \"title\": {\"standoff\": 5, \"text\": \"PAPI_L1_DCM\"}}, \"xaxis10\": {\"anchor\": \"y10\", \"domain\": [0.26, 0.48], \"title\": {\"standoff\": 5, \"text\": \"PAPI_RES_STL\"}}, \"xaxis11\": {\"anchor\": \"y11\", \"domain\": [0.52, 0.74], \"title\": {\"standoff\": 5, \"text\": \"PAPI_TOT_INS\"}}, \"xaxis12\": {\"anchor\": \"y12\", \"domain\": [0.78, 1.0], \"title\": {\"standoff\": 5, \"text\": \"TIME\"}}, \"xaxis13\": {\"anchor\": \"y13\", \"domain\": [0.0, 0.22], \"title\": {\"standoff\": 5, \"text\": \"PAPI_L1_DCM\"}}, \"xaxis14\": {\"anchor\": \"y14\", \"domain\": [0.26, 0.48], \"title\": {\"standoff\": 5, \"text\": \"PAPI_RES_STL\"}}, \"xaxis15\": {\"anchor\": \"y15\", \"domain\": [0.52, 0.74], \"title\": {\"standoff\": 5, \"text\": \"PAPI_TOT_INS\"}}, \"xaxis16\": {\"anchor\": \"y16\", \"domain\": [0.78, 1.0], \"title\": {\"standoff\": 5, \"text\": \"TIME\"}}, \"xaxis17\": {\"anchor\": \"y17\", \"domain\": [0.0, 0.22], \"title\": {\"standoff\": 5, \"text\": \"PAPI_L1_DCM\"}}, \"xaxis18\": {\"anchor\": \"y18\", \"domain\": [0.26, 0.48], \"title\": {\"standoff\": 5, \"text\": \"PAPI_RES_STL\"}}, \"xaxis19\": {\"anchor\": \"y19\", \"domain\": [0.52, 0.74], \"title\": {\"standoff\": 5, \"text\": \"PAPI_TOT_INS\"}}, \"xaxis2\": {\"anchor\": \"y2\", \"domain\": [0.26, 0.48], \"title\": {\"standoff\": 5, \"text\": \"PAPI_RES_STL\"}}, \"xaxis20\": {\"anchor\": \"y20\", \"domain\": [0.78, 1.0], \"title\": {\"standoff\": 5, \"text\": \"TIME\"}}, \"xaxis21\": {\"anchor\": \"y21\", \"domain\": [0.0, 0.22], \"title\": {\"standoff\": 5, \"text\": \"PAPI_L1_DCM\"}}, \"xaxis22\": {\"anchor\": \"y22\", \"domain\": [0.26, 0.48], \"title\": {\"standoff\": 5, \"text\": \"PAPI_RES_STL\"}}, \"xaxis23\": {\"anchor\": \"y23\", \"domain\": [0.52, 0.74], \"title\": {\"standoff\": 5, \"text\": \"PAPI_TOT_INS\"}}, \"xaxis24\": {\"anchor\": \"y24\", \"domain\": [0.78, 1.0], \"title\": {\"standoff\": 5, \"text\": \"TIME\"}}, \"xaxis3\": {\"anchor\": \"y3\", \"domain\": [0.52, 0.74], \"title\": {\"standoff\": 5, \"text\": \"PAPI_TOT_INS\"}}, \"xaxis4\": {\"anchor\": \"y4\", \"domain\": [0.78, 1.0], \"title\": {\"standoff\": 5, \"text\": \"TIME\"}}, \"xaxis5\": {\"anchor\": \"y5\", \"domain\": [0.0, 0.22], \"title\": {\"standoff\": 5, \"text\": \"PAPI_L1_DCM\"}}, \"xaxis6\": {\"anchor\": \"y6\", \"domain\": [0.26, 0.48], \"title\": {\"standoff\": 5, \"text\": \"PAPI_RES_STL\"}}, \"xaxis7\": {\"anchor\": \"y7\", \"domain\": [0.52, 0.74], \"title\": {\"standoff\": 5, \"text\": \"PAPI_TOT_INS\"}}, \"xaxis8\": {\"anchor\": \"y8\", \"domain\": [0.78, 1.0], \"title\": {\"standoff\": 5, \"text\": \"TIME\"}}, \"xaxis9\": {\"anchor\": \"y9\", \"domain\": [0.0, 0.22], \"title\": {\"standoff\": 5, \"text\": \"PAPI_L1_DCM\"}}, \"yaxis\": {\"anchor\": \"x\", \"domain\": [0.8583333333333333, 1.0], \"title\": {\"standoff\": 5, \"text\": \"RiemannState <br> PAPI_L1_DCM\"}}, \"yaxis10\": {\"anchor\": \"x10\", \"domain\": [0.515, 0.6566666666666667]}, \"yaxis11\": {\"anchor\": \"x11\", \"domain\": [0.515, 0.6566666666666667]}, \"yaxis12\": {\"anchor\": \"x12\", \"domain\": [0.515, 0.6566666666666667]}, \"yaxis13\": {\"anchor\": \"x13\", \"domain\": [0.3433333333333333, 0.485], \"title\": {\"standoff\": 5, \"text\": \"unsplitUpdate <br> PAPI_L1_DCM\"}}, \"yaxis14\": {\"anchor\": \"x14\", \"domain\": [0.3433333333333333, 0.485]}, \"yaxis15\": {\"anchor\": \"x15\", \"domain\": [0.3433333333333333, 0.485]}, \"yaxis16\": {\"anchor\": \"x16\", \"domain\": [0.3433333333333333, 0.485]}, \"yaxis17\": {\"anchor\": \"x17\", \"domain\": [0.17166666666666666, 0.31333333333333335], \"title\": {\"standoff\": 5, \"text\": \"tree <br> PAPI_L1_DCM\"}}, \"yaxis18\": {\"anchor\": \"x18\", \"domain\": [0.17166666666666666, 0.31333333333333335]}, \"yaxis19\": {\"anchor\": \"x19\", \"domain\": [0.17166666666666666, 0.31333333333333335]}, \"yaxis2\": {\"anchor\": \"x2\", \"domain\": [0.8583333333333333, 1.0]}, \"yaxis20\": {\"anchor\": \"x20\", \"domain\": [0.17166666666666666, 0.31333333333333335]}, \"yaxis21\": {\"anchor\": \"x21\", \"domain\": [0.0, 0.14166666666666666], \"title\": {\"standoff\": 5, \"text\": \"Hydro <br> PAPI_L1_DCM\"}}, \"yaxis22\": {\"anchor\": \"x22\", \"domain\": [0.0, 0.14166666666666666]}, \"yaxis23\": {\"anchor\": \"x23\", \"domain\": [0.0, 0.14166666666666666]}, \"yaxis24\": {\"anchor\": \"x24\", \"domain\": [0.0, 0.14166666666666666]}, \"yaxis3\": {\"anchor\": \"x3\", \"domain\": [0.8583333333333333, 1.0]}, \"yaxis4\": {\"anchor\": \"x4\", \"domain\": [0.8583333333333333, 1.0]}, \"yaxis5\": {\"anchor\": \"x5\", \"domain\": [0.6866666666666666, 0.8283333333333334], \"title\": {\"standoff\": 5, \"text\": \"amr_guardcell <br> PAPI_L1_DCM\"}}, \"yaxis6\": {\"anchor\": \"x6\", \"domain\": [0.6866666666666666, 0.8283333333333334]}, \"yaxis7\": {\"anchor\": \"x7\", \"domain\": [0.6866666666666666, 0.8283333333333334]}, \"yaxis8\": {\"anchor\": \"x8\", \"domain\": [0.6866666666666666, 0.8283333333333334]}, \"yaxis9\": {\"anchor\": \"x9\", \"domain\": [0.515, 0.6566666666666667], \"title\": {\"standoff\": 5, \"text\": \"getFaceFlux <br> PAPI_L1_DCM\"}}},\n",
       "                        {\"responsive\": true}\n",
       "                    ).then(function(){\n",
       "                            \n",
       "var gd = document.getElementById('5b214d81-647e-4aaa-b1f6-3866cc9e4220');\n",
       "var x = new MutationObserver(function (mutations, observer) {{\n",
       "        var display = window.getComputedStyle(gd).display;\n",
       "        if (!display || display === 'none') {{\n",
       "            console.log([gd, 'removed!']);\n",
       "            Plotly.purge(gd);\n",
       "            observer.disconnect();\n",
       "        }}\n",
       "}});\n",
       "\n",
       "// Listen for the removal of the full notebook cells\n",
       "var notebookContainer = gd.closest('#notebook-container');\n",
       "if (notebookContainer) {{\n",
       "    x.observe(notebookContainer, {childList: true});\n",
       "}}\n",
       "\n",
       "// Listen for the clearing of the current output cell\n",
       "var outputEl = gd.closest('.output');\n",
       "if (outputEl) {{\n",
       "    x.observe(outputEl, {childList: true});\n",
       "}}\n",
       "\n",
       "                        })\n",
       "                };\n",
       "                });\n",
       "            </script>\n",
       "        </div>"
      ]
     },
     "metadata": {},
     "output_type": "display_data"
    }
   ],
   "source": [
    "metrics = {'PAPI_L1_DCM':non_normal_DCM_df, 'PAPI_RES_STL':non_normal_STL_df,'PAPI_TOT_INS': non_normal_ins_df, 'TIME':non_normal_df}\n",
    "fig = make_subplots(rows=len(top_timers), cols=4, vertical_spacing=0.03, horizontal_spacing=0.04)\n",
    "colors = ['#636EFA', '#EF553B', '#00CC96']\n",
    "legend_bool = True\n",
    "\n",
    "row = 1\n",
    "for timer in top_timers:\n",
    "    m_keys = list(metrics)\n",
    "#     print(m_keys, type(m_keys))\n",
    "    m1 = m_keys[0]\n",
    "    col = 1\n",
    "    timer_text = timer.replace('*** custom:', '')\n",
    "    fig.update_yaxes(title_text=timer_text + ' <br> ' +  m1, row=row, col=col, title_standoff = 5)\n",
    "    for m2 in m_keys:\n",
    "        fig.add_trace(go.Scatter(x=metrics[m2][timer][0:nodes_num-1], y=metrics[m1][timer][0:nodes_num-1], mode='markers', marker_color=colors[0], marker_size=5,\n",
    "                                 name='orig', legendgroup='orig', showlegend=legend_bool, text=non_normal_df['Node'][0:nodes_num-1]), row=row, col=col)\n",
    "        fig.add_trace(go.Scatter(x=metrics[m2][timer][nodes_num:2*nodes_num-1], y=metrics[m1][timer][nodes_num:2*nodes_num-1], mode='markers', marker_color=colors[1], marker_size=5,\n",
    "                                 name='nc_static', legendgroup='nc_static', showlegend=legend_bool, text=non_normal_df['Node'][nodes_num:2*nodes_num-1],), row=row, col=col)\n",
    "        fig.add_trace(go.Scatter(x=metrics[m2][timer][2*nodes_num:3*nodes_num-1], y=metrics[m1][timer][2*nodes_num:3*nodes_num-1], mode='markers', marker_color=colors[2], marker_size=5,\n",
    "                                 name='nocall', legendgroup='nocall', showlegend=legend_bool, text=non_normal_df['Node'][2*nodes_num:3*nodes_num-1],), row=row, col=col)\n",
    "        \n",
    "        fig.update_xaxes(title_text=m2, row=row, col=col, title_standoff = 5)\n",
    "\n",
    "        \n",
    "        legend_bool = False\n",
    "        col+=1\n",
    "    \n",
    "    row+=1\n",
    "\n",
    "title= 'Metric X Metrix Scatter Plots --- Top '+str(len(top_timers)) +' Timers sort by TIME in Original Run <br> MPI and TAU ommitted & \"***custom:\" Removed from timer strings'\n",
    "fig.update_layout(height=2200, width=1500, title=title)\n",
    "# fig.write_html(\"/home/users/MTrappett/Flash5_theta/MetricXMetric_scatter_plots_Theta64.html\")\n",
    "fig.show()          "
   ]
  },
  {
   "cell_type": "code",
   "execution_count": null,
   "metadata": {},
   "outputs": [],
   "source": []
  },
  {
   "cell_type": "code",
   "execution_count": null,
   "metadata": {},
   "outputs": [],
   "source": []
  }
 ],
 "metadata": {
  "kernelspec": {
   "display_name": "Python 3",
   "language": "python",
   "name": "python3"
  },
  "language_info": {
   "codemirror_mode": {
    "name": "ipython",
    "version": 3
   },
   "file_extension": ".py",
   "mimetype": "text/x-python",
   "name": "python",
   "nbconvert_exporter": "python",
   "pygments_lexer": "ipython3",
   "version": "3.8.5"
  }
 },
 "nbformat": 4,
 "nbformat_minor": 4
}
